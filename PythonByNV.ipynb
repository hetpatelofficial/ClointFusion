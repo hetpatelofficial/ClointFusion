{
  "nbformat": 4,
  "nbformat_minor": 0,
  "metadata": {
    "colab": {
      "name": "PythonByNV.ipynb",
      "provenance": [],
      "collapsed_sections": [
        "m1gKXx3U-OCS",
        "btd_GvHt9upn",
        "MiCtOU0F-uLN",
        "_SR0saT9KvwE",
        "pULZk2i3OpH8"
      ],
      "toc_visible": true,
      "include_colab_link": true
    },
    "kernelspec": {
      "name": "python3",
      "display_name": "Python 3"
    },
    "language_info": {
      "name": "python"
    },
    "accelerator": "GPU"
  },
  "cells": [
    {
      "cell_type": "markdown",
      "metadata": {
        "id": "view-in-github",
        "colab_type": "text"
      },
      "source": [
        "<a href=\"https://colab.research.google.com/github/hetpatelofficial/ClointFusion/blob/master/PythonByNV.ipynb\" target=\"_parent\"><img src=\"https://colab.research.google.com/assets/colab-badge.svg\" alt=\"Open In Colab\"/></a>"
      ]
    },
    {
      "cell_type": "markdown",
      "metadata": {
        "id": "_zsrfL839rAe"
      },
      "source": [
        "#Introduction to Colab for the classroom\n",
        "\n",
        "This is an \"Google Colab\" notebook. It's a shared document where everybody can see and make changes to the same document.\n",
        "\n",
        "The first few problems will get us acquainted with working together;\n",
        "\n",
        "1.Go to file in the upper left corner\n",
        "\n",
        "2.Click Save copy in drive\n",
        "\n",
        "3.Follow along and use your own notebook!"
      ]
    },
    {
      "cell_type": "code",
      "metadata": {
        "id": "dSsP_T-l9Y7c"
      },
      "source": [
        "# This is a comment\n",
        "# in a code cell\n",
        "# Press shift + enter to execute a cell\n",
        "# Nothing will print from this cell since these are all comments"
      ],
      "execution_count": null,
      "outputs": []
    },
    {
      "cell_type": "markdown",
      "metadata": {
        "id": "ZGuFM7_U-Bj7"
      },
      "source": [
        "#   **What is Python?**\n",
        "\n",
        "\n",
        "Python is an open-source object-oriented programming language. It first \n",
        "appeared in 1991 and has become extremely popular among data scientists. StackOverflow calls it as the fastest growing programming language.\n",
        "\n",
        "It is used for:\n",
        "\n",
        "*   Web development\n",
        "*   Software Development\n",
        "*   Mathematics\n",
        "*   System Scripting and Much more\n",
        "\n",
        "\n",
        "# **What Python can do?**\n",
        "\n",
        "*   Python can be used on a server to create web applications.\n",
        "*   Python can be used alongside software to create workflows.\n",
        "*   Python can connect to database systems. It can also read and modify files.\n",
        "*   Python can be used to handle big data and perform complex mathematics.\n",
        "*   Python can be used for rapid prototyping, or for production-ready software development."
      ]
    },
    {
      "cell_type": "markdown",
      "metadata": {
        "id": "x-w5GyG9-GdS"
      },
      "source": [
        "# Why Learn Python?\n",
        "Python’s syntax is very simple hence it's easy for the beginners to understand. The lines of code required for a task is less compared to other languages.\n",
        "\n",
        "\n",
        "*  Python works on different platforms (Windows, Mac, Linux, Raspberry Pi, etc).\n",
        "* Python has a simple syntax similar to the English language.\n",
        "* Python has syntax that allows developers to write programs with fewer lines than some other programming languages.\n",
        "*  Python runs on an interpreter system, meaning that code can be executed as soon as it is written. This means that prototyping can be very quick.\n",
        "*  Python can be treated in a procedural way, an object-orientated way or a functional way."
      ]
    },
    {
      "cell_type": "markdown",
      "metadata": {
        "id": "pUw5ku1p-LTM"
      },
      "source": [
        "# **Let’s look at some cool features of Python:**\n",
        "\n",
        "1.   Simple and easy to learn\n",
        "2.   Free and Open Source\n",
        "3.   Portable\n",
        "4.   Supports different programming paradigm\n",
        "5.   Extensible"
      ]
    },
    {
      "cell_type": "markdown",
      "metadata": {
        "id": "m1gKXx3U-OCS"
      },
      "source": [
        "# **Python Applications:**\n",
        "​\n",
        "1.    Artificial Intelligence\n",
        "2.    Desktop Application\n",
        "3.    Automation\n",
        "4.    Web Development\n",
        "5.    Data Wrangling, Exploration\n",
        "6.    Visualization"
      ]
    },
    {
      "cell_type": "markdown",
      "metadata": {
        "id": "p7XXqcgO-YMa"
      },
      "source": [
        "\n",
        "\n",
        "---\n",
        "\n",
        "\n",
        "Hello world!` Note that parenthesis is needed for python 3`\n",
        "\n",
        "---\n",
        "\n"
      ]
    },
    {
      "cell_type": "code",
      "metadata": {
        "colab": {
          "base_uri": "https://localhost:8080/"
        },
        "id": "Yl9je4Cl9432",
        "outputId": "ddcd84cb-1f45-410f-c069-cbd008f9b0d0"
      },
      "source": [
        "print ('Hello world')"
      ],
      "execution_count": null,
      "outputs": [
        {
          "output_type": "stream",
          "text": [
            "Hello world\n"
          ],
          "name": "stdout"
        }
      ]
    },
    {
      "cell_type": "markdown",
      "metadata": {
        "id": "btd_GvHt9upn"
      },
      "source": [
        "# **Comments:**\n",
        "\n",
        "Python has commenting capability for the purpose of in-code documentation.\n",
        "\n",
        "Comments start with a #, and Python will render the rest of the line as a comment:"
      ]
    },
    {
      "cell_type": "code",
      "metadata": {
        "id": "a_YeED9D9x6s",
        "colab": {
          "base_uri": "https://localhost:8080/"
        },
        "outputId": "9b2aae17-5869-41c1-e679-88a7159ed5c5"
      },
      "source": [
        "#This is a comment, this line will not execute.\n",
        "\n",
        "print(\"Yoooo!\")"
      ],
      "execution_count": null,
      "outputs": [
        {
          "output_type": "stream",
          "text": [
            "Yoooo!\n"
          ],
          "name": "stdout"
        }
      ]
    },
    {
      "cell_type": "markdown",
      "metadata": {
        "id": "pft3WfTe-LUe"
      },
      "source": [
        "*   Comments can be used to explain Python code.\n",
        "\n",
        "*   Comments can be used to make the code more readable.\n",
        "*   Comments can be used to prevent execution when testing code.\n",
        "*   In `Colab` we have a option to comment a block using `ctrl+/`"
      ]
    },
    {
      "cell_type": "code",
      "metadata": {
        "id": "B77HLpYIoIXN",
        "colab": {
          "base_uri": "https://localhost:8080/"
        },
        "outputId": "63e7c6e2-6ba2-41e8-b967-3455fbbc26db"
      },
      "source": [
        "print(\"Comment in colab line 1\")\n",
        "print(\"Comment in colab line 2\")\n",
        "print(\"Comment in colab line 3\")\n",
        "print(\"select all the lines and then do crtl+/ to comment and again to reverse back\")"
      ],
      "execution_count": null,
      "outputs": [
        {
          "output_type": "stream",
          "text": [
            "Comment in colab line 1\n",
            "Comment in colab line 2\n",
            "Comment in colab line 3\n",
            "select all the lines and then do crtl+/ to comment and again to reverse back\n"
          ],
          "name": "stdout"
        }
      ]
    },
    {
      "cell_type": "markdown",
      "metadata": {
        "id": "MiCtOU0F-uLN"
      },
      "source": [
        "# **Variables in Python:**\n",
        "\n",
        "Variables are nothing but reserved memory locations to store values. This means that when you create a variable you reserve some space in memory.\n",
        "\n",
        "In Python you don’t need to declare variables before using it, unlike other languages like Java, C etc.\n",
        "\n",
        "# **Assigning values to a variable:**\n",
        "\n",
        "Python variables do not need explicit declaration to reserve memory space. The declaration happens automatically when you assign a value to a variable. \n",
        "The equal sign (=) is used to assign values to variables."
      ]
    },
    {
      "cell_type": "code",
      "metadata": {
        "id": "WOgTcEk2_J21",
        "colab": {
          "base_uri": "https://localhost:8080/"
        },
        "outputId": "cbe77a71-3a4f-4267-d978-e3243c8afccf"
      },
      "source": [
        "x = 11 \n",
        "y = \"PYTHON\" \n",
        "print(x)\n",
        "print(y)"
      ],
      "execution_count": null,
      "outputs": [
        {
          "output_type": "stream",
          "text": [
            "11\n",
            "PYTHON\n"
          ],
          "name": "stdout"
        }
      ]
    },
    {
      "cell_type": "markdown",
      "metadata": {
        "id": "1RlM5twW_VQB"
      },
      "source": [
        "Variables do not need to be declared with any particular type and can even change type after they have been set."
      ]
    },
    {
      "cell_type": "code",
      "metadata": {
        "id": "fo-8MR7q_b-o",
        "colab": {
          "base_uri": "https://localhost:8080/"
        },
        "outputId": "4c16f97d-236d-4875-95b1-2c5455acdc1d"
      },
      "source": [
        "x = 4 # x is of type int\n",
        "x = \"Frost forbite\" # x is now of type str\n",
        "print(x)"
      ],
      "execution_count": null,
      "outputs": [
        {
          "output_type": "stream",
          "text": [
            "Frost forbite\n"
          ],
          "name": "stdout"
        }
      ]
    },
    {
      "cell_type": "markdown",
      "metadata": {
        "id": "N09PcvZvFPt9"
      },
      "source": [
        "String variables can be declared either by using single or double quotes:"
      ]
    },
    {
      "cell_type": "code",
      "metadata": {
        "id": "CGG7Pza5FQzg"
      },
      "source": [
        "x = \"Marcus Burns\"\n",
        "# is the same as\n",
        "x = 'Marcus Burns'\n",
        "y = 10"
      ],
      "execution_count": null,
      "outputs": []
    },
    {
      "cell_type": "markdown",
      "metadata": {
        "id": "H_tMoZ7toprY"
      },
      "source": [
        "At any point if you want to see the `type of the variable` like `int` or `str` use `type()` function."
      ]
    },
    {
      "cell_type": "code",
      "metadata": {
        "id": "mhI3kAO7BZn-",
        "colab": {
          "base_uri": "https://localhost:8080/",
          "height": 68
        },
        "outputId": "5e301bcc-f967-426b-f87f-2d7158ccceaa"
      },
      "source": [
        "a = 2\n",
        "b = 1.5\n",
        "c = 'Coding'\n",
        "print (type(a))\n",
        "print (type(b))\n",
        "print (type(c))"
      ],
      "execution_count": null,
      "outputs": [
        {
          "output_type": "stream",
          "text": [
            "<class 'int'>\n",
            "<class 'float'>\n",
            "<class 'str'>\n"
          ],
          "name": "stdout"
        }
      ]
    },
    {
      "cell_type": "markdown",
      "metadata": {
        "id": "_SR0saT9KvwE"
      },
      "source": [
        "# **Assign Value to Multiple Variables:**\n",
        "\n",
        "Python allows you to assign values to multiple variables in one line:"
      ]
    },
    {
      "cell_type": "code",
      "metadata": {
        "id": "tTsMoY7MK1wx",
        "colab": {
          "base_uri": "https://localhost:8080/"
        },
        "outputId": "ae118ee7-238d-492d-c35f-756f02aea2be"
      },
      "source": [
        "x, y, z = \"Apples\", \"Grapes\", \"Mangoes\" #very useful in spliting the data\n",
        "print(x)\n",
        "print(y)\n",
        "print(z)"
      ],
      "execution_count": null,
      "outputs": [
        {
          "output_type": "stream",
          "text": [
            "Apples\n",
            "Grapes\n",
            "Mangoes\n"
          ],
          "name": "stdout"
        }
      ]
    },
    {
      "cell_type": "markdown",
      "metadata": {
        "id": "TyJ-roCOK9zT"
      },
      "source": [
        "And you can assign the same value to multiple variables in one line:"
      ]
    },
    {
      "cell_type": "code",
      "metadata": {
        "id": "AC-SxzcVK_6J",
        "colab": {
          "base_uri": "https://localhost:8080/"
        },
        "outputId": "7bba7aae-7f0a-4776-97ee-1473cb64489c"
      },
      "source": [
        "x = y = z = \"Kiwi\"\n",
        "print(x)\n",
        "print(y)\n",
        "print(z)"
      ],
      "execution_count": null,
      "outputs": [
        {
          "output_type": "stream",
          "text": [
            "Kiwi\n",
            "Kiwi\n",
            "Kiwi\n"
          ],
          "name": "stdout"
        }
      ]
    },
    {
      "cell_type": "markdown",
      "metadata": {
        "id": "pULZk2i3OpH8"
      },
      "source": [
        "# **Data Types in Python:**\n",
        "Python supports various data types, these data types defines the operations possible on the variables and the storage method. \n",
        "\n",
        "\n",
        "* Text Type:\t`str`\n",
        "* Numeric Types:\t`int, float, complex`\n",
        "* Sequence Types:\t`list, tuple, range`\n",
        "* Mapping Type:\t`dict`\n",
        "* Set Types:\t`set, frozenset`\n",
        "* Boolean Type:\t`bool`\n",
        "* Binary Types:\t`bytes, bytearray, memoryview`"
      ]
    },
    {
      "cell_type": "markdown",
      "metadata": {
        "id": "QVlmz3KzOvEv"
      },
      "source": [
        "# **Getting the Data Type:**\n",
        "\n",
        "You can get the data type of any object by using the type() function:"
      ]
    },
    {
      "cell_type": "code",
      "metadata": {
        "colab": {
          "base_uri": "https://localhost:8080/",
          "height": 68
        },
        "id": "lMxxsaQFBqY7",
        "outputId": "5e301bcc-f967-426b-f87f-2d7158ccceaa"
      },
      "source": [
        "a = 2\n",
        "b = 1.5\n",
        "c = 'Coding'\n",
        "print (type(a))\n",
        "print (type(b))\n",
        "print (type(c))"
      ],
      "execution_count": null,
      "outputs": [
        {
          "output_type": "stream",
          "text": [
            "<class 'int'>\n",
            "<class 'float'>\n",
            "<class 'str'>\n"
          ],
          "name": "stdout"
        }
      ]
    },
    {
      "cell_type": "markdown",
      "metadata": {
        "id": "JmJ0drEEO7Sp"
      },
      "source": [
        "**Numeric:**\n",
        "\n",
        "Just as expected Numeric data types store numeric values. They are immutable data types, this means that you cannot change it’s value. Python supports three different Numeric data types:\n",
        "\n",
        "1. Integer type: It holds all the integer values i.e. all the positive and negative whole numbers, example – 10.\n",
        "\n",
        "2. Float type: It holds the real numbers and are represented by decimal and sometimes even scientific notations with E or e indicating the power of 10 (2.5e2 = 2.5 x 102 = 250), example – 10.24.\n",
        "\n",
        "3. Complex type: These are of the form a + bj, where a and b are floats and J represents the square root of -1 (which is an imaginary number), example – 10+6j.\n",
        "\n",
        "Now you can even perform type conversion. For example, you can convert the integer value to a float value and vice-versa."
      ]
    },
    {
      "cell_type": "markdown",
      "metadata": {
        "id": "tMCB-d5SPPcz"
      },
      "source": [
        "**Type Conversion**\n",
        "\n",
        "You can convert from one type to another with the int(), float(), and complex() methods:"
      ]
    },
    {
      "cell_type": "code",
      "metadata": {
        "id": "jLEAczK2Pf3_",
        "colab": {
          "base_uri": "https://localhost:8080/"
        },
        "outputId": "e492ee83-017b-455e-ec93-4d2aeb3add1c"
      },
      "source": [
        "# we usually use int conversion for some values in ML\n",
        "a = 8.16\n",
        "# Convert it into int type\n",
        "b = int(a)\n",
        "print(b)"
      ],
      "execution_count": null,
      "outputs": [
        {
          "output_type": "stream",
          "text": [
            "8\n"
          ],
          "name": "stdout"
        }
      ]
    },
    {
      "cell_type": "markdown",
      "metadata": {
        "id": "uevK81TSPqiU"
      },
      "source": [
        "# **Strings:**\n",
        "\n",
        "Strings are amongst the most popular data types in Python. We can create them simply by enclosing characters in quotes. Python treats single and double quotes in exactly the same fashion. "
      ]
    },
    {
      "cell_type": "markdown",
      "metadata": {
        "id": "PFRQnE8vPswE"
      },
      "source": [
        "**String Methods**\n",
        "\n",
        "Python has a set of built-in methods that you can use on strings.\n",
        "\n",
        "---\n",
        "\n",
        "*   **capitalize()**\tConverts the first character to upper case\n",
        "---\n",
        "*  **casefold()**\tConverts string into lower case\n",
        "---\n",
        "*   **center()**\tReturns a centered string\n",
        "---\n",
        "*   **count()**\tReturns the number of times a specified value occurs in a string\n",
        "---\n",
        "*   **encode()**\tReturns an encoded version of the string\n",
        "---\n",
        "*   **endswith(**)\tReturns true if the string ends with the specified value\n",
        "---\n",
        "*   **isalpha()**\tReturns True if all characters in the string are in the alphabet\n",
        "---\n",
        "*   **isdecimal()**\tReturns True if all characters in the string are decimals\n",
        "---\n",
        "*   **isdigit()**\tReturns True if all characters in the string are digits\n",
        "---\n",
        "\n",
        "*   **isidentifier()**\tReturns True if the string is an identifier\n",
        "---\n",
        "\n",
        "*   **expandtabs()**\tSets the tab size of the string\n",
        "---\n",
        "\n",
        "*   **find()**\tSearches the string for a specified value and returns the position of where it was found\n",
        "---\n",
        "*   **format()**\tFormats specified values in a string\n",
        "---\n",
        "\n",
        "*   **format_map()**\tFormats specified values in a string\n",
        "---\n",
        "\n",
        "*   **index()**\tSearches the string for a specified value and returns the position of where it was found\n",
        "---\n",
        "\n",
        "*   **isalnum()**\tReturns True if all characters in the string are alphanumeric\n",
        "---\n",
        "*   **islower()**\tReturns True if all characters in the string are lower case\n",
        "---\n",
        "*   **isnumeric()**\tReturns True if all characters in the string are numeric\n",
        "---\n",
        "*   **isprintable()**\tReturns True if all characters in the string are printable\n",
        "---\n",
        "*   **isspace()**\tReturns True if all characters in the string are whitespaces\n",
        "---\n",
        "*   **istitle()**\tReturns True if the string follows the rules of a title\n",
        "---\n",
        "\n",
        "* **isupper()**\tReturns True if all characters in the string are upper case\n",
        "---\n",
        "* **join()**\tJoins the elements of an iterable to the end of the string\n",
        "---\n",
        "* **just()**\tReturns a left justified version of the string\n",
        "---\n",
        "* **lower()**\tConverts a string into lower case\n",
        "---\n",
        "* **lstrip()**\tReturns a left trim version of the string\n",
        "---\n",
        "* **maketrans()**\tReturns a translation table to be used in translations\n",
        "---\n",
        "* **partition()**\tReturns a tuple where the string is parted into three parts\n",
        "---\n",
        "* **replace()**\tReturns a string where a specified value is replaced with a specified \n",
        "value\n",
        "---\n",
        "* **rfind()**\tSearches the string for a specified value and returns the last position \n",
        "of where it was found\n",
        "---\n",
        "* **rindex()**\tSearches the string for a specified value and returns the last position of where it was found\n",
        "---\n",
        "* **rjust()**\tReturns a right justified version of the string\n",
        "---\n",
        "* **rpartition()**\tReturns a tuple where the string is parted into three parts\n",
        "---\n",
        "* **rsplit()**\tSplits the string at the specified separator, and returns a list\n",
        "---\n",
        "* **rstrip()**\tReturns a right trim version of the string\n",
        "---\n",
        "* **split()**\tSplits the string at the specified separator, and returns a list\n",
        "---\n",
        "* **splitlines()**\tSplits the string at line breaks and returns a list\n",
        "---\n",
        "* **startswith()**\tReturns true if the string starts with the specified value\n",
        "---\n",
        "* **strip()**\tReturns a trimmed version of the string\n",
        "---\n",
        "* **swapcase()**\tSwaps cases, lower case becomes upper case and vice versa\n",
        "---\n",
        "* **title()**\tConverts the first character of each word to upper case\n",
        "---\n",
        "* **translate()**\tReturns a translated string\n",
        "---\n",
        "* **upper()**\tConverts a string into upper case\n",
        "---\n",
        "* **zfill()**\tFills the string with a specified number of 0 values at the beginning\n",
        "---\n",
        "\n",
        "\n"
      ]
    },
    {
      "cell_type": "markdown",
      "metadata": {
        "id": "URny1DMeQEUF"
      },
      "source": [
        "**Strings are Arrays**\n",
        "\n",
        "Like many other popular programming languages, strings in Python are arrays of bytes representing unicode characters.\n",
        "\n",
        "However, Python does not have a character data type, a single character is simply a string with a length of 1.\n",
        "\n",
        "Square brackets can be used to access elements of the string."
      ]
    },
    {
      "cell_type": "code",
      "metadata": {
        "id": "d32_CS-LQLO9",
        "colab": {
          "base_uri": "https://localhost:8080/",
          "height": 33
        },
        "outputId": "2df018a4-f5f1-4a86-f1ca-86cc53d5e612"
      },
      "source": [
        "#Get the character at position 1 (remember that the first character has the position 0):\n",
        "\n",
        "a = \"Hello, World!\"\n",
        "print(a[1])"
      ],
      "execution_count": null,
      "outputs": [
        {
          "output_type": "stream",
          "text": [
            "e\n"
          ],
          "name": "stdout"
        }
      ]
    },
    {
      "cell_type": "markdown",
      "metadata": {
        "id": "ECKOL1gxCcGh"
      },
      "source": [
        "# Slicing\n",
        "You can return a range of characters by using the slice syntax.\n",
        "\n",
        "Specify the start index and the end index, separated by a colon, to return a part of the string."
      ]
    },
    {
      "cell_type": "code",
      "metadata": {
        "colab": {
          "base_uri": "https://localhost:8080/"
        },
        "id": "9h0eI3KF-gga",
        "outputId": "f352c7ca-4fcb-4c1b-afa1-339cd763f098"
      },
      "source": [
        "b = \"Hello, World!\"\n",
        "print(b[2:5])"
      ],
      "execution_count": null,
      "outputs": [
        {
          "output_type": "stream",
          "text": [
            "llo\n"
          ],
          "name": "stdout"
        }
      ]
    },
    {
      "cell_type": "markdown",
      "metadata": {
        "id": "3qvJHM9eCmLn"
      },
      "source": [
        "**Slice From the Start**\n",
        "\n",
        "By leaving out the start index, the range will start at the first character:"
      ]
    },
    {
      "cell_type": "code",
      "metadata": {
        "colab": {
          "base_uri": "https://localhost:8080/"
        },
        "id": "LJN55l2wCheC",
        "outputId": "f3929f25-0d6a-4d34-d504-2e01d96f5103"
      },
      "source": [
        "b = \"Hello, World!\"\n",
        "print(b[:5])"
      ],
      "execution_count": null,
      "outputs": [
        {
          "output_type": "stream",
          "text": [
            "Hello\n"
          ],
          "name": "stdout"
        }
      ]
    },
    {
      "cell_type": "markdown",
      "metadata": {
        "id": "P-9ua1DjCxPa"
      },
      "source": [
        "**Slice To the End**\n",
        "\n",
        "By leaving out the end index, the range will go to the end:"
      ]
    },
    {
      "cell_type": "code",
      "metadata": {
        "id": "cUoBFRSDCuCT"
      },
      "source": [
        "b = \"Hello, World!\"\n",
        "print(b[2:])"
      ],
      "execution_count": null,
      "outputs": []
    },
    {
      "cell_type": "markdown",
      "metadata": {
        "id": "E4_X-fvyC5xP"
      },
      "source": [
        "**Negative Indexing**\n",
        "\n",
        "Use negative indexes to start the slice from the end of the string:"
      ]
    },
    {
      "cell_type": "code",
      "metadata": {
        "colab": {
          "base_uri": "https://localhost:8080/"
        },
        "id": "BDjQoQYBC9fp",
        "outputId": "41489864-deb7-42a6-bb68-3f9d6e0326c0"
      },
      "source": [
        "b = \"Hello, World!\"\n",
        "print(b[-5:-2])"
      ],
      "execution_count": null,
      "outputs": [
        {
          "output_type": "stream",
          "text": [
            "orl\n"
          ],
          "name": "stdout"
        }
      ]
    },
    {
      "cell_type": "markdown",
      "metadata": {
        "id": "_UxLI1OfOE4y"
      },
      "source": [
        "---\n",
        "\n",
        "**Modify Strings**\n",
        "\n",
        "---\n",
        "\n"
      ]
    },
    {
      "cell_type": "markdown",
      "metadata": {
        "id": "KzTKYeafODUg"
      },
      "source": [
        "**Upper Case** in string.\n",
        "\n",
        "\n",
        "The` upper() `method returns the string in upper case:"
      ]
    },
    {
      "cell_type": "code",
      "metadata": {
        "colab": {
          "base_uri": "https://localhost:8080/"
        },
        "id": "UhvIhihyDAN7",
        "outputId": "4686a166-bf9a-4f6e-9341-0238351a5e9c"
      },
      "source": [
        "a = \"Hello, World!\"\n",
        "print(a.upper())"
      ],
      "execution_count": null,
      "outputs": [
        {
          "output_type": "stream",
          "text": [
            "HELLO, WORLD!\n"
          ],
          "name": "stdout"
        }
      ]
    },
    {
      "cell_type": "markdown",
      "metadata": {
        "id": "mI-Fe9MiDVWY"
      },
      "source": [
        "**Lower Case**\n",
        "\n",
        "The `lower()` method returns the string in lower case:"
      ]
    },
    {
      "cell_type": "code",
      "metadata": {
        "colab": {
          "base_uri": "https://localhost:8080/"
        },
        "id": "DCNQRPZyDSc_",
        "outputId": "670d7e98-37ea-40fb-a01d-e53daaa5584f"
      },
      "source": [
        "a = \"Hello, World!\"\n",
        "print(a.lower())"
      ],
      "execution_count": null,
      "outputs": [
        {
          "output_type": "stream",
          "text": [
            "hello, world!\n"
          ],
          "name": "stdout"
        }
      ]
    },
    {
      "cell_type": "markdown",
      "metadata": {
        "id": "e2damC-_Dkio"
      },
      "source": [
        "**Remove Whitespace**\n",
        "\n",
        "Whitespace is the space before and/or after the actual text, and very often you want to remove this space.\n",
        "\n",
        "\n",
        "The ` strip() ` method removes any whitespace from the beginning or the end:"
      ]
    },
    {
      "cell_type": "code",
      "metadata": {
        "colab": {
          "base_uri": "https://localhost:8080/"
        },
        "id": "-1IQY82HDcb9",
        "outputId": "367f7d9a-9c79-4866-f7fd-ac45e8316bda"
      },
      "source": [
        "a = \" Hello, World! \"\n",
        "print(a.strip()) # returns \"Hello, World!\""
      ],
      "execution_count": null,
      "outputs": [
        {
          "output_type": "stream",
          "text": [
            "Hello, World!\n"
          ],
          "name": "stdout"
        }
      ]
    },
    {
      "cell_type": "markdown",
      "metadata": {
        "id": "ZN8lmP7TD5s9"
      },
      "source": [
        "**Replace String**\n",
        "\n",
        "The `replace()` method replaces a string with another string:"
      ]
    },
    {
      "cell_type": "code",
      "metadata": {
        "colab": {
          "base_uri": "https://localhost:8080/"
        },
        "id": "woB0k6QtDvSz",
        "outputId": "f9ce4cad-a419-4380-b705-47ab2bab1aca"
      },
      "source": [
        "a = \"Hello, World!\"\n",
        "print(a.replace(\"H\", \"J\"))"
      ],
      "execution_count": null,
      "outputs": [
        {
          "output_type": "stream",
          "text": [
            "Jello, World!\n"
          ],
          "name": "stdout"
        }
      ]
    },
    {
      "cell_type": "markdown",
      "metadata": {
        "id": "EdMcW9RUEEdr"
      },
      "source": [
        "**Split String**\n",
        "\n",
        "\n",
        "*   The `split()` method returns a list where the text between the specified separator becomes the list items.\n",
        "\n",
        "*   The `split()` method splits the string into substrings if it finds instances of the separator:\n",
        "\n"
      ]
    },
    {
      "cell_type": "code",
      "metadata": {
        "id": "lsFCeAZYD_9N",
        "colab": {
          "base_uri": "https://localhost:8080/"
        },
        "outputId": "9ac38f34-8d27-4f98-d10e-771b0770e927"
      },
      "source": [
        "a = \"Hello, World!\"\n",
        "print(a.split(\",\")) "
      ],
      "execution_count": null,
      "outputs": [
        {
          "output_type": "stream",
          "text": [
            "['Hello', ' World!']\n"
          ],
          "name": "stdout"
        }
      ]
    },
    {
      "cell_type": "markdown",
      "metadata": {
        "id": "Fds0ocIsOcgV"
      },
      "source": [
        "\n",
        "\n",
        "---\n",
        "\n",
        "\n",
        "**String Concatenation**\n",
        "\n",
        "\n",
        "\n",
        "---\n",
        "\n"
      ]
    },
    {
      "cell_type": "markdown",
      "metadata": {
        "id": "tLXhgWdDOn9W"
      },
      "source": [
        "**Merge variable**`a` with variable `b` into variable` c`:"
      ]
    },
    {
      "cell_type": "code",
      "metadata": {
        "colab": {
          "base_uri": "https://localhost:8080/"
        },
        "id": "na08U7zNOWJb",
        "outputId": "08b4e405-8311-4426-c77c-d7c35e85f569"
      },
      "source": [
        "a = \"Hello\"\n",
        "b = \"World\"\n",
        "c = a + b\n",
        "d = a + \" \" + b\n",
        "print(c)\n",
        "print(d)"
      ],
      "execution_count": null,
      "outputs": [
        {
          "output_type": "stream",
          "text": [
            "HelloWorld\n",
            "Hello World\n"
          ],
          "name": "stdout"
        }
      ]
    },
    {
      "cell_type": "markdown",
      "metadata": {
        "id": "VmJqTHOLPKjk"
      },
      "source": [
        "\n",
        "\n",
        "---\n",
        "\n",
        "\n",
        "**Format - Strings**\n",
        "\n",
        "\n",
        "---\n",
        "\n"
      ]
    },
    {
      "cell_type": "markdown",
      "metadata": {
        "id": "1qa1hzZlPRHr"
      },
      "source": [
        "As we learned **we cannot combine strings and numbers like this**:"
      ]
    },
    {
      "cell_type": "code",
      "metadata": {
        "colab": {
          "base_uri": "https://localhost:8080/",
          "height": 197
        },
        "id": "hTUyEglZPV4T",
        "outputId": "f0e82b78-3afd-415f-99a1-329d5cf0aee3"
      },
      "source": [
        "age = 29\n",
        "txt = \"My name is PYTHON, I am \" + age\n",
        "print(txt)"
      ],
      "execution_count": null,
      "outputs": [
        {
          "output_type": "error",
          "ename": "TypeError",
          "evalue": "ignored",
          "traceback": [
            "\u001b[0;31m---------------------------------------------------------------------------\u001b[0m",
            "\u001b[0;31mTypeError\u001b[0m                                 Traceback (most recent call last)",
            "\u001b[0;32m<ipython-input-8-22dd1a0d46fa>\u001b[0m in \u001b[0;36m<module>\u001b[0;34m()\u001b[0m\n\u001b[1;32m      1\u001b[0m \u001b[0mage\u001b[0m \u001b[0;34m=\u001b[0m \u001b[0;36m29\u001b[0m\u001b[0;34m\u001b[0m\u001b[0;34m\u001b[0m\u001b[0m\n\u001b[0;32m----> 2\u001b[0;31m \u001b[0mtxt\u001b[0m \u001b[0;34m=\u001b[0m \u001b[0;34m\"My name is PYTHON, I am \"\u001b[0m \u001b[0;34m+\u001b[0m \u001b[0mage\u001b[0m\u001b[0;34m\u001b[0m\u001b[0;34m\u001b[0m\u001b[0m\n\u001b[0m\u001b[1;32m      3\u001b[0m \u001b[0mprint\u001b[0m\u001b[0;34m(\u001b[0m\u001b[0mtxt\u001b[0m\u001b[0;34m)\u001b[0m\u001b[0;34m\u001b[0m\u001b[0;34m\u001b[0m\u001b[0m\n",
            "\u001b[0;31mTypeError\u001b[0m: can only concatenate str (not \"int\") to str"
          ]
        }
      ]
    },
    {
      "cell_type": "markdown",
      "metadata": {
        "id": "uQTbdxL0PirK"
      },
      "source": [
        "But **we can combine strings and numbers by using the** `format()` method!\n",
        "\n",
        "The `format()` method takes the passed arguments, formats them, and places them in the string where the placeholders `{}` are:"
      ]
    },
    {
      "cell_type": "code",
      "metadata": {
        "colab": {
          "base_uri": "https://localhost:8080/"
        },
        "id": "fpPhk8TLPdOf",
        "outputId": "19b2bf31-41c3-46fe-9b6c-1ae0b9fa695f"
      },
      "source": [
        "age = 29\n",
        "txt = \"My name is PYTHON, and I am {}\"\n",
        "print(txt.format(age))"
      ],
      "execution_count": null,
      "outputs": [
        {
          "output_type": "stream",
          "text": [
            "My name is PYTHON, and I am 29\n"
          ],
          "name": "stdout"
        }
      ]
    },
    {
      "cell_type": "code",
      "metadata": {
        "colab": {
          "base_uri": "https://localhost:8080/"
        },
        "id": "tGSysGWhP4Dr",
        "outputId": "83acbe49-cd81-442c-bf06-613f3458db13"
      },
      "source": [
        "quantity = 3\n",
        "itemno = 567\n",
        "price = 49.95\n",
        "myorder = \"I want {} pieces of item {} for {} dollars.\"\n",
        "print(myorder.format(quantity, itemno, price))"
      ],
      "execution_count": null,
      "outputs": [
        {
          "output_type": "stream",
          "text": [
            "I want 3 pieces of item 567 for 49.95 dollars.\n"
          ],
          "name": "stdout"
        }
      ]
    },
    {
      "cell_type": "markdown",
      "metadata": {
        "id": "cR82i0wFQTpD"
      },
      "source": [
        "Can use index numbers `{0}` to be sure the arguments are placed in the correct placeholders:"
      ]
    },
    {
      "cell_type": "code",
      "metadata": {
        "colab": {
          "base_uri": "https://localhost:8080/"
        },
        "id": "tqi8nyuUQMzs",
        "outputId": "742adde3-da21-4306-9b0e-4c8675cb2f1b"
      },
      "source": [
        "quantity = 3\n",
        "itemno = 567\n",
        "price = 49.95\n",
        "myorder = \"I want to pay {2} dollars for {0} pieces of item {1}.\"\n",
        "print(myorder.format(quantity, itemno, price))"
      ],
      "execution_count": null,
      "outputs": [
        {
          "output_type": "stream",
          "text": [
            "I want to pay 49.95 dollars for 3 pieces of item 567.\n"
          ],
          "name": "stdout"
        }
      ]
    },
    {
      "cell_type": "code",
      "metadata": {
        "id": "o12S1IXOQaRE"
      },
      "source": [
        ""
      ],
      "execution_count": null,
      "outputs": []
    },
    {
      "cell_type": "markdown",
      "metadata": {
        "id": "NgRmpchngrUn"
      },
      "source": [
        "# Python Booleans"
      ]
    },
    {
      "cell_type": "markdown",
      "metadata": {
        "id": "fU-pN34FhDFv"
      },
      "source": [
        "Booleans **represent one of two values**: `True` or `False`."
      ]
    },
    {
      "cell_type": "code",
      "metadata": {
        "colab": {
          "base_uri": "https://localhost:8080/"
        },
        "id": "iCL2iEx7hVYm",
        "outputId": "8b0e0501-a1d2-4055-89f0-1f9e242f1411"
      },
      "source": [
        "print(10 > 9)\n",
        "print(10 == 9)\n",
        "print(10 < 9)"
      ],
      "execution_count": null,
      "outputs": [
        {
          "output_type": "stream",
          "text": [
            "True\n",
            "False\n",
            "False\n"
          ],
          "name": "stdout"
        }
      ]
    },
    {
      "cell_type": "markdown",
      "metadata": {
        "id": "AwykXAJJhiLO"
      },
      "source": [
        "\n",
        "\n",
        "---\n",
        "\n",
        "\n",
        "**Evaluate Values and Variables**\n",
        "\n",
        "\n",
        "---\n",
        "\n"
      ]
    },
    {
      "cell_type": "code",
      "metadata": {
        "colab": {
          "base_uri": "https://localhost:8080/"
        },
        "id": "gZN8zn_yhV58",
        "outputId": "ab950144-47e3-41f9-e81c-1177a75ed9b6"
      },
      "source": [
        "print(bool(\"Hello\"))\n",
        "print(bool(15))"
      ],
      "execution_count": null,
      "outputs": [
        {
          "output_type": "stream",
          "text": [
            "True\n",
            "True\n"
          ],
          "name": "stdout"
        }
      ]
    },
    {
      "cell_type": "markdown",
      "metadata": {
        "id": "bPjJwg_Ph17H"
      },
      "source": [
        "Evaluate Example"
      ]
    },
    {
      "cell_type": "code",
      "metadata": {
        "colab": {
          "base_uri": "https://localhost:8080/"
        },
        "id": "Wv4j-daRhuu7",
        "outputId": "c8054e1e-9c88-48ea-f1e5-c239884f389f"
      },
      "source": [
        "x = \"Hello\"\n",
        "y = 15\n",
        "\n",
        "print(bool(x))\n",
        "print(bool(y))"
      ],
      "execution_count": null,
      "outputs": [
        {
          "output_type": "stream",
          "text": [
            "True\n",
            "True\n"
          ],
          "name": "stdout"
        }
      ]
    },
    {
      "cell_type": "markdown",
      "metadata": {
        "id": "d137GMVBiHVX"
      },
      "source": [
        "Following will get only false value"
      ]
    },
    {
      "cell_type": "code",
      "metadata": {
        "colab": {
          "base_uri": "https://localhost:8080/"
        },
        "id": "iDokhqLOhyBd",
        "outputId": "d74910cf-0556-465e-9083-b1b16f3d6679"
      },
      "source": [
        "bool(False)\n",
        "bool(None)\n",
        "bool(0)\n",
        "bool(\"\")\n",
        "bool(())\n",
        "bool([])\n",
        "bool({})"
      ],
      "execution_count": null,
      "outputs": [
        {
          "output_type": "execute_result",
          "data": {
            "text/plain": [
              "False"
            ]
          },
          "metadata": {
            "tags": []
          },
          "execution_count": 5
        }
      ]
    },
    {
      "cell_type": "markdown",
      "metadata": {
        "id": "TDuMcAzZibD-"
      },
      "source": [
        "# Operators"
      ]
    },
    {
      "cell_type": "markdown",
      "metadata": {
        "id": "yMXYLJpmivLe"
      },
      "source": [
        "Python divides the operators in the following groups:\n",
        "\n",
        "\n",
        "\n",
        "1.   **Arithmetic operators**\n",
        "\n",
        "1.   **Assignment operators**\n",
        "\n",
        "1.  **Comparison operators**\n",
        "2.   **Logical operators**\n",
        "\n",
        "2.  **Identity operators**\n",
        "\n",
        "8. **Bitwise operators**\n",
        "\n",
        "\n",
        "\n",
        "\n",
        "\n",
        "\n"
      ]
    },
    {
      "cell_type": "markdown",
      "metadata": {
        "id": "SMX1oVG31oI8"
      },
      "source": [
        "**Arithmetic Operators**\n",
        "\n",
        "\n",
        "---\n",
        "\n",
        "Arithmetic operators are used to perform mathematical operations like addition, subtraction, multiplication, etc."
      ]
    },
    {
      "cell_type": "markdown",
      "metadata": {
        "id": "61-NdLJI1tCH"
      },
      "source": [
        "Operator\tMeaning\tExample\n",
        "1.\t**(+)** Add two operands or unary plus\n",
        "2.\t**(-)** Subtract right operand from the left or unary minus\t\n",
        "1.\t**(*)** Multiply two operands\n",
        "1.\t**(/)** Divide left operand by the right one (always results into float)\t\n",
        "1.  **(%)**\tModulus - remainder of the division of left operand by the right\t     \n",
        "1.\t**(//)** Floor division - division that results into whole number adjusted to the left in the number line\n",
        "1.\t**( ** )** Exponent - left operand raised to the power of right\t"
      ]
    },
    {
      "cell_type": "code",
      "metadata": {
        "id": "vieeAV1MiR0S",
        "colab": {
          "base_uri": "https://localhost:8080/"
        },
        "outputId": "f392a7bd-94c4-4df9-ca42-960c0e78056e"
      },
      "source": [
        "x = 15\n",
        "y = 4\n",
        "\n",
        "print('x + y =',x+y)\n",
        "\n",
        "print('x - y =',x-y)\n",
        "\n",
        "print('x * y =',x*y)\n",
        "\n",
        "print('x / y =',x/y)\n",
        "\n",
        "print('x // y =',x//y)\n",
        "\n",
        "print('x ** y =',x**y)"
      ],
      "execution_count": null,
      "outputs": [
        {
          "output_type": "stream",
          "text": [
            "x + y = 19\n",
            "x - y = 11\n",
            "x * y = 60\n",
            "x / y = 3.75\n",
            "x // y = 3\n",
            "x ** y = 50625\n"
          ],
          "name": "stdout"
        }
      ]
    },
    {
      "cell_type": "code",
      "metadata": {
        "id": "1ab2DltNJaP_",
        "colab": {
          "base_uri": "https://localhost:8080/"
        },
        "outputId": "c9208514-3386-4d40-8949-04e4f715da30"
      },
      "source": [
        "n=int(input(\"Enter number:\"))\n",
        "count=0\n",
        "while(n>0):\n",
        "    count=count+1\n",
        "    n=n//10\n",
        "print(\"The number of digits in the number are:\",count)"
      ],
      "execution_count": null,
      "outputs": [
        {
          "output_type": "stream",
          "text": [
            "Enter number:345\n",
            "The number of digits in the number are: 3\n"
          ],
          "name": "stdout"
        }
      ]
    },
    {
      "cell_type": "markdown",
      "metadata": {
        "id": "vI8Acn-W3n8c"
      },
      "source": [
        "**Assignment Operators**\n",
        "\n",
        "\n",
        "---\n",
        "\n"
      ]
    },
    {
      "cell_type": "markdown",
      "metadata": {
        "id": "C0vqjG9h5mq-"
      },
      "source": [
        "\n",
        "**(=)** :- \tAssigns values from right side operands to left side operand\t\n",
        "\n",
        "**(+=)** :-  Add AND\tIt adds right operand to the left operand and assign the result to left operand\t\n",
        "\n",
        "**(-=)** :-  Subtract AND\tIt subtracts right operand from the left operand and assign the result to left operand\t\n",
        "\n",
        "**(*=)** :-  Multiply AND\tIt multiplies right operand with the left operand and assign the result to left operand\t\n",
        "\n",
        "**(/=)** :-  Divide AND\tIt divides left operand with the right operand and assign the result to left operand\t\n",
        "\n",
        "**(%=)** :-  Modulus AND\tIt takes modulus using two operands and assign the result to left operand\t\n",
        "\n",
        "\n",
        "**( **=)** :-  Exponent AND\tPerforms exponential (power) calculation on operators and assign value to the left operand\t\n",
        "\n",
        "**(//=)** :- Floor Division\tIt performs floor division on operators and assign value to the left operand\t\n"
      ]
    },
    {
      "cell_type": "code",
      "metadata": {
        "colab": {
          "base_uri": "https://localhost:8080/"
        },
        "id": "mMvj8Gz92oyX",
        "outputId": "f39b9dfe-aafd-4407-86c7-e77a2c43f0fd"
      },
      "source": [
        "a = 10\n",
        "b = 10\n",
        "\n",
        "\n",
        "c = a + b\n",
        "print(\"Line 1 - Value of c is \", c)\n",
        "\n",
        "c += a\n",
        "print (\"Line 2 - Value of c is \", c) \n",
        "\n",
        "c *= a\n",
        "print (\"Line 3 - Value of c is \", c) \n",
        "\n",
        "c /= a \n",
        "print (\"Line 4 - Value of c is \", c) \n",
        "\n",
        "c  = 2\n",
        "c %= a\n",
        "print (\"Line 5 - Value of c is \", c)\n",
        "\n",
        "c **= a\n",
        "print (\"Line 6 - Value of c is \", c)\n",
        "\n",
        "c //= a\n",
        "print (\"Line 7 - Value of c is \",c)"
      ],
      "execution_count": null,
      "outputs": [
        {
          "output_type": "stream",
          "text": [
            "Line 1 - Value of c is  20\n",
            "Line 2 - Value of c is  30\n",
            "Line 3 - Value of c is  300\n",
            "Line 4 - Value of c is  30.0\n",
            "Line 5 - Value of c is  2\n",
            "Line 6 - Value of c is  1024\n",
            "Line 7 - Value of c is  102\n"
          ],
          "name": "stdout"
        }
      ]
    },
    {
      "cell_type": "markdown",
      "metadata": {
        "id": "0yIwOvjF8vx_"
      },
      "source": [
        "**Bitwise operators**\n",
        "\n",
        "\n",
        "---\n",
        "1. (&)\tBitwise AND\t\n",
        "\n",
        "1. (|) XOR\t\n",
        "\n",
        "1. (>>)\tBitwise right shift\t\n",
        "\n",
        "1. (<<)\tBitwise left shift\n",
        "\n"
      ]
    },
    {
      "cell_type": "code",
      "metadata": {
        "colab": {
          "base_uri": "https://localhost:8080/"
        },
        "id": "Rurk6yYG7RGg",
        "outputId": "f7601a64-9bce-44f0-f8b9-ab5218d6c645"
      },
      "source": [
        "a = 60            # 60 = 0011 1100 \n",
        "b = 13            # 13 = 0000 1101 \n",
        "c = 0\n",
        "\n",
        "c = a & b;        # 12 = 0000 1100\n",
        "print (\"Line 1 - c = a & b is \", c)\n",
        "\n",
        "c = a | b;        # 61 = 0011 1101 \n",
        "print (\"Line 2 - Value of c is \", c)\n",
        "\n",
        "c = a ^ b;        # 49 = 0011 0001\n",
        "print (\"Line 3 - c = a | b is \", c)\n",
        "\n",
        "c = ~a;           # -61 = 1100 0011\n",
        "print (\"Line 4 - c = ~a is \", c)\n",
        "\n",
        "c = a << 2;       # 240 = 1111 0000\n",
        "print (\"Line 5 - c = a << 2 is \", c)\n",
        "\n",
        "c = a >> 2;       # 15 = 0000 1111\n",
        "print (\"Line 6 - c = a >> 2 is \", c)"
      ],
      "execution_count": null,
      "outputs": [
        {
          "output_type": "stream",
          "text": [
            "Line 1 - c = a & b is  12\n",
            "Line 2 - Value of c is  61\n",
            "Line 3 - c = a | b is  49\n",
            "Line 4 - c = ~a is  -61\n",
            "Line 5 - c = a << 2 is  240\n",
            "Line 6 - c = a >> 2 is  15\n"
          ],
          "name": "stdout"
        }
      ]
    },
    {
      "cell_type": "markdown",
      "metadata": {
        "id": "K_hctVkc-VLd"
      },
      "source": [
        "**Comparison operators**\n",
        "\n",
        "\n",
        "---\n",
        "\n",
        "Comparison operators are used to compare values. It returns either `True` or `False` according to the condition."
      ]
    },
    {
      "cell_type": "markdown",
      "metadata": {
        "id": "f1_mAjn4-fyc"
      },
      "source": [
        "---\n",
        "**(==)** :-\tIf the values of two operands are equal, then the condition becomes true.\t\n",
        "\n",
        "**(!=)** :-\tIf values of two operands are not equal, then condition becomes true.\t\n",
        "\n",
        "**(<>)** :-\t\tIf values of two operands are not equal, then condition becomes true.\t\n",
        "\n",
        "**(>)** :-\t\tIf the value of left operand is greater than the value of right operand, then condition becomes true.\t\n",
        "\n",
        "**(<)** :-\t\tIf the value of left operand is less than the value of right operand, then condition becomes true.\n",
        "\n",
        "**(>=)** :-\t\tIf the value of left operand is greater than or equal to the value of right operand, then condition becomes true.\n",
        "\n",
        "**(<=)** :-\t\tIf the value of left operand is less than or equal to the value of right operand, then condition becomes true.\n",
        "\n",
        "\n",
        "---"
      ]
    },
    {
      "cell_type": "code",
      "metadata": {
        "colab": {
          "base_uri": "https://localhost:8080/"
        },
        "id": "x2TCJf0s9RVA",
        "outputId": "c8d70f27-cc1d-4ae4-dcf8-448648f1c49f"
      },
      "source": [
        "x = 10\n",
        "y = 12\n",
        "\n",
        "# Output: x > y is False\n",
        "print('x > y is',x>y)\n",
        "\n",
        "# Output: x < y is True\n",
        "print('x < y is',x<y)\n",
        "\n",
        "# Output: x == y is False\n",
        "print('x == y is',x==y)\n",
        "\n",
        "# Output: x != y is True\n",
        "print('x != y is',x!=y)\n",
        "\n",
        "# Output: x >= y is False\n",
        "print('x >= y is',x>=y)\n",
        "\n",
        "# Output: x <= y is True\n",
        "print('x <= y is',x<=y)"
      ],
      "execution_count": null,
      "outputs": [
        {
          "output_type": "stream",
          "text": [
            "x > y is False\n",
            "x < y is True\n",
            "x == y is False\n",
            "x != y is True\n",
            "x >= y is False\n",
            "x <= y is True\n"
          ],
          "name": "stdout"
        }
      ]
    },
    {
      "cell_type": "markdown",
      "metadata": {
        "id": "pUuBk0ye_jbk"
      },
      "source": [
        "**Logical operators**"
      ]
    },
    {
      "cell_type": "markdown",
      "metadata": {
        "id": "Aga92oeuAuiD"
      },
      "source": [
        "* ( and ) to check if the LHS and RHS conditions both conditions are satisfied. Basically checking for truthy values\n",
        "\n",
        "* ( or ) to check if atleast one of the side satisfy the condition. Basically checking for truthy values\n",
        "\n",
        "* ( not ) to check if the condition is not satified. Basically checking for falsy values"
      ]
    },
    {
      "cell_type": "code",
      "metadata": {
        "colab": {
          "base_uri": "https://localhost:8080/"
        },
        "id": "eUuUZOqi_Zgd",
        "outputId": "fef42ecd-a57b-4f7a-924c-4840c19fe716"
      },
      "source": [
        "x = True\n",
        "y = False\n",
        " \n",
        "print('x and y is',x and y)\n",
        " \n",
        "print('x or y is',x or y)\n",
        " \n",
        "print('not x is',not x)"
      ],
      "execution_count": null,
      "outputs": [
        {
          "output_type": "stream",
          "text": [
            "x and y is False\n",
            "x or y is True\n",
            "not x is False\n"
          ],
          "name": "stdout"
        }
      ]
    },
    {
      "cell_type": "markdown",
      "metadata": {
        "id": "OCqbPi2OBUmU"
      },
      "source": [
        " **Identity Operators**"
      ]
    },
    {
      "cell_type": "markdown",
      "metadata": {
        "id": "6OK-qOiYBd1L"
      },
      "source": [
        "[ `is`\t] :- Evaluates to true if the variables on either side of the operator point to the same object and false otherwise.\t\n",
        "\n",
        "[ `is not` ] :-\tEvaluates to false if the variables on either side of the operator point to the same object and true otherwise."
      ]
    },
    {
      "cell_type": "code",
      "metadata": {
        "colab": {
          "base_uri": "https://localhost:8080/"
        },
        "id": "MbKjwpCIA4ww",
        "outputId": "7fd75070-b5e2-42d2-bf18-5793f53c3c21"
      },
      "source": [
        "x1 = 5\n",
        "y1 = 5\n",
        "x2 = 'Hello'\n",
        "y2 = 'Hello'\n",
        "x3 = [1,2,3]\n",
        "y3 = [1,2,3]\n",
        "\n",
        "# Output: False\n",
        "print(x1 is not y1)\n",
        "\n",
        "# Output: True\n",
        "print(x2 is y2)\n",
        "\n",
        "# Output: False\n",
        "print(x3 is y3)"
      ],
      "execution_count": null,
      "outputs": [
        {
          "output_type": "stream",
          "text": [
            "False\n",
            "True\n",
            "False\n"
          ],
          "name": "stdout"
        }
      ]
    },
    {
      "cell_type": "code",
      "metadata": {
        "id": "CaCS_r5WB-qT"
      },
      "source": [
        ""
      ],
      "execution_count": null,
      "outputs": []
    },
    {
      "cell_type": "markdown",
      "metadata": {
        "id": "_Zh7u244CBM9"
      },
      "source": [
        "#  Lists"
      ]
    },
    {
      "cell_type": "markdown",
      "metadata": {
        "id": "rG962TrOJjlM"
      },
      "source": [
        "1. **append()**\t:- Adds an element at the end of the list\n",
        "\n",
        "1. **clear()**\t:- \tRemoves all the elements from the list\n",
        "\n",
        "1. **copy()**\t:- \tReturns a copy of the list\n",
        "\n",
        "1. **count()**\t:- \tReturns the number of elements with the specified value\n",
        "\n",
        "1. **extend()**\t:- \tAdd the elements of a list (or any iterable), to the end of the current list\n",
        "\n",
        "1. **index()**\t:- \tReturns the index of the first element with the specified value\n",
        "\n",
        "1. **insert()**\t:- \tAdds an element at the specified position\n",
        "\n",
        "1. **pop()**\t:- \tRemoves the element at the specified position\n",
        "\n",
        "1. **remove()**\t:- \tRemoves the item with the specified value\n",
        "\n",
        "1. **reverse()**\t:- \tReverses the order of the list\n",
        "\n",
        "1. **sort()**\t\t:- Sorts the list"
      ]
    },
    {
      "cell_type": "markdown",
      "metadata": {
        "id": "LlCksfHwCIeF"
      },
      "source": [
        "The list is a most versatile datatype available in Python which can be written as a list of comma-separated values (items) between square brackets. Important thing about a list is that items in a list need not be of the same type.\n",
        "\n",
        "Creating a list is as simple as putting different comma-separated values between square brackets."
      ]
    },
    {
      "cell_type": "markdown",
      "metadata": {
        "id": "5LYMYJnSCgNM"
      },
      "source": [
        "EXAMPLE :-\n"
      ]
    },
    {
      "cell_type": "code",
      "metadata": {
        "id": "YIKuXHnVCeES"
      },
      "source": [
        "list1 = ['physics', 'chemistry', 1997, 2000];\n",
        "list2 = [1, 2, 3, 4, 5 ];\n",
        "list3 = [\"a\", \"b\", \"c\", \"d\"]"
      ],
      "execution_count": null,
      "outputs": []
    },
    {
      "cell_type": "markdown",
      "metadata": {
        "id": "I5ige92jCm-b"
      },
      "source": [
        "Similar to string indices, list indices start at 0, and lists can be sliced, concatenated and so on."
      ]
    },
    {
      "cell_type": "markdown",
      "metadata": {
        "id": "-hIt1OiNCwnb"
      },
      "source": [
        " **Accessing Values in Lists**"
      ]
    },
    {
      "cell_type": "markdown",
      "metadata": {
        "id": "ULqgolV7C5yL"
      },
      "source": [
        "There are various ways in which we can access the elements of a list.\n",
        "\n",
        "**List Index**\n",
        "\n",
        "* We can use the index operator [] to access an item in a list. In Python, indices start at 0. So, a list having 5 elements will have an index from 0 to 4.\n",
        "\n",
        "* Trying to access indexes other than these will raise an IndexError. The index must be an integer. We can't use float or other types, this will result in TypeError.\n",
        "\n",
        "Nested lists are accessed using nested indexing."
      ]
    },
    {
      "cell_type": "markdown",
      "metadata": {
        "id": "G5oAmZzcC7gd"
      },
      "source": [
        "EXAMPLE :-"
      ]
    },
    {
      "cell_type": "code",
      "metadata": {
        "id": "rytVVtOIEEWj"
      },
      "source": [
        "# List indexing\n",
        "\n",
        "my_list = ['p', 'r', 'o', 'b', 'e']\n",
        "\n",
        "# Output: p\n",
        "print(my_list[0])\n",
        "\n",
        "# Output: o\n",
        "print(my_list[2])\n",
        "\n",
        "# Output: e\n",
        "print(my_list[4])\n",
        "\n",
        "# Nested List\n",
        "n_list = [\"Happy\", [2, 0, 1, 5]]\n",
        "\n",
        "# Nested indexing\n",
        "print(n_list[0][1])\n",
        "\n",
        "print(n_list[1][3])\n",
        "\n",
        "# Error! Only integer can be used for indexing\n",
        "print(my_list[4.0])"
      ],
      "execution_count": null,
      "outputs": []
    },
    {
      "cell_type": "markdown",
      "metadata": {
        "id": "mvvWZ6iHEM0m"
      },
      "source": [
        "**Negative indexing**"
      ]
    },
    {
      "cell_type": "markdown",
      "metadata": {
        "id": "VZ3A9eloEQUz"
      },
      "source": [
        "* Python allows negative indexing for its sequences. \n",
        "\n",
        "* The index of -1 refers to the last item, -2 to the second last item and so on."
      ]
    },
    {
      "cell_type": "code",
      "metadata": {
        "colab": {
          "base_uri": "https://localhost:8080/"
        },
        "id": "fkQBDQZiEWok",
        "outputId": "8758b3a6-a6bd-4281-a8ab-aadfc01e0abc"
      },
      "source": [
        "# Negative indexing in lists\n",
        "my_list = ['p','y','t','h','o','n']\n",
        "\n",
        "print(my_list[-1])\n",
        "\n",
        "print(my_list[-5])"
      ],
      "execution_count": null,
      "outputs": [
        {
          "output_type": "stream",
          "text": [
            "n\n",
            "y\n"
          ],
          "name": "stdout"
        }
      ]
    },
    {
      "cell_type": "markdown",
      "metadata": {
        "id": "HoIVr3vJE0z0"
      },
      "source": [
        "**Change Item Value**"
      ]
    },
    {
      "cell_type": "markdown",
      "metadata": {
        "id": "y4iDaESVE1_L"
      },
      "source": [
        "* To change the value of a specific item, refer to the index number:"
      ]
    },
    {
      "cell_type": "code",
      "metadata": {
        "colab": {
          "base_uri": "https://localhost:8080/"
        },
        "id": "tQrzgGkgE6nM",
        "outputId": "b3f11f6b-8e84-414d-cdd3-3e72b0283667"
      },
      "source": [
        "thislist = [\"apple\", \"banana\", \"cherry\"]\n",
        "print(thislist)\n",
        "thislist[1] = \"blackcurrant\"\n",
        "print(thislist)"
      ],
      "execution_count": null,
      "outputs": [
        {
          "output_type": "stream",
          "text": [
            "['apple', 'banana', 'cherry']\n",
            "['apple', 'blackcurrant', 'cherry']\n"
          ],
          "name": "stdout"
        }
      ]
    },
    {
      "cell_type": "markdown",
      "metadata": {
        "id": "FcTY7mENFKik"
      },
      "source": [
        "**Change a Range of Item Values**"
      ]
    },
    {
      "cell_type": "markdown",
      "metadata": {
        "id": "JyXvPv0WFL0D"
      },
      "source": [
        "* To change the value of items within a specific range, define a list with the new values, and refer to the range of index numbers where you want to insert the new values:"
      ]
    },
    {
      "cell_type": "code",
      "metadata": {
        "colab": {
          "base_uri": "https://localhost:8080/"
        },
        "id": "qr3j6ty5FSLd",
        "outputId": "57f57b37-e806-49ac-ae79-a432b50ff074"
      },
      "source": [
        "thislist = [\"apple\", \"banana\", \"cherry\", \"orange\", \"kiwi\", \"mango\"]\n",
        "print(thislist)\n",
        "thislist[1:3] = [\"blackcurrant\", \"watermelon\"]\n",
        "print(thislist)"
      ],
      "execution_count": null,
      "outputs": [
        {
          "output_type": "stream",
          "text": [
            "['apple', 'banana', 'cherry', 'orange', 'kiwi', 'mango']\n",
            "['apple', 'blackcurrant', 'watermelon', 'orange', 'kiwi', 'mango']\n"
          ],
          "name": "stdout"
        }
      ]
    },
    {
      "cell_type": "markdown",
      "metadata": {
        "id": "9nWAcs_FFeUj"
      },
      "source": [
        "**Insert Items**"
      ]
    },
    {
      "cell_type": "markdown",
      "metadata": {
        "id": "nrLJR2gcFfjL"
      },
      "source": [
        "* To insert a new list item, without replacing any of the existing values, we can use the `insert()` method.\n",
        "\n",
        "* The `insert()` method inserts an item at the specified index:"
      ]
    },
    {
      "cell_type": "code",
      "metadata": {
        "colab": {
          "base_uri": "https://localhost:8080/"
        },
        "id": "ofoA5uZYFmm6",
        "outputId": "6ce7fa15-a573-491a-fa3d-719be76f27ae"
      },
      "source": [
        "thislist = [\"apple\", \"banana\", \"cherry\"]\n",
        "print(thislist)\n",
        "thislist.insert(2, \"watermelon\")\n",
        "print(thislist)"
      ],
      "execution_count": null,
      "outputs": [
        {
          "output_type": "stream",
          "text": [
            "['apple', 'banana', 'cherry']\n",
            "['apple', 'banana', 'watermelon', 'cherry']\n"
          ],
          "name": "stdout"
        }
      ]
    },
    {
      "cell_type": "markdown",
      "metadata": {
        "id": "jZIbQC--F2Ok"
      },
      "source": [
        "**Append Items**"
      ]
    },
    {
      "cell_type": "markdown",
      "metadata": {
        "id": "WGOQuiAxF5Ub"
      },
      "source": [
        "* To add an item to the end of the list, use the `append()` method:"
      ]
    },
    {
      "cell_type": "code",
      "metadata": {
        "colab": {
          "base_uri": "https://localhost:8080/"
        },
        "id": "BuwzLGTwC9C7",
        "outputId": "f7c52d2c-98c7-448d-a89f-43d1f6f6904b"
      },
      "source": [
        "thislist = [\"apple\", \"banana\", \"cherry\"]\n",
        "print(thislist)\n",
        "thislist.append(\"orange\")\n",
        "print(thislist)"
      ],
      "execution_count": null,
      "outputs": [
        {
          "output_type": "stream",
          "text": [
            "['apple', 'banana', 'cherry']\n",
            "['apple', 'banana', 'cherry', 'orange']\n"
          ],
          "name": "stdout"
        }
      ]
    },
    {
      "cell_type": "markdown",
      "metadata": {
        "id": "Mp1ohmJWGDzM"
      },
      "source": [
        "**Insert Items**"
      ]
    },
    {
      "cell_type": "markdown",
      "metadata": {
        "id": "ORKPkKe8GGxM"
      },
      "source": [
        "* To insert a list item at a specified index, use the `insert()`method.\n",
        "\n",
        "* The insert() method inserts an item at the specified index:"
      ]
    },
    {
      "cell_type": "code",
      "metadata": {
        "colab": {
          "base_uri": "https://localhost:8080/"
        },
        "id": "P2fbS7CoF-GZ",
        "outputId": "0635b96e-9d61-4db4-b5cd-6fc6e63b6db7"
      },
      "source": [
        "thislist = [\"apple\", \"banana\", \"cherry\"]\n",
        "print(thislist)\n",
        "thislist.insert(1, \"orange\")\n",
        "print(thislist)"
      ],
      "execution_count": null,
      "outputs": [
        {
          "output_type": "stream",
          "text": [
            "['apple', 'banana', 'cherry']\n",
            "['apple', 'orange', 'banana', 'cherry']\n"
          ],
          "name": "stdout"
        }
      ]
    },
    {
      "cell_type": "markdown",
      "metadata": {
        "id": "E4wv_RQlGeeb"
      },
      "source": [
        "**Extend List**"
      ]
    },
    {
      "cell_type": "markdown",
      "metadata": {
        "id": "F9cS6FIwGfaz"
      },
      "source": [
        "* To append elements from another list to the current list, use the `extend()` method."
      ]
    },
    {
      "cell_type": "code",
      "metadata": {
        "colab": {
          "base_uri": "https://localhost:8080/"
        },
        "id": "xKHBc6peGSLh",
        "outputId": "52ceac2e-339c-4239-c349-b8800d6baf7a"
      },
      "source": [
        "thislist = [\"apple\", \"banana\", \"cherry\"]\n",
        "tropical = [\"mango\", \"pineapple\", \"papaya\"]\n",
        "thislist.extend(tropical)\n",
        "print(thislist)"
      ],
      "execution_count": null,
      "outputs": [
        {
          "output_type": "stream",
          "text": [
            "['apple', 'banana', 'cherry', 'mango', 'pineapple', 'papaya']\n"
          ],
          "name": "stdout"
        }
      ]
    },
    {
      "cell_type": "markdown",
      "metadata": {
        "id": "yh1w0Gx4G-hj"
      },
      "source": [
        "\n",
        "\n",
        "---\n",
        "\n",
        "\n",
        "**Remove List Items**\n",
        "\n",
        "\n",
        "---\n",
        "\n"
      ]
    },
    {
      "cell_type": "markdown",
      "metadata": {
        "id": "yx0e_CDOHGSk"
      },
      "source": [
        "**Remove Specified Item**\n",
        "\n",
        "* The `remove()` method removes the specified item."
      ]
    },
    {
      "cell_type": "code",
      "metadata": {
        "colab": {
          "base_uri": "https://localhost:8080/"
        },
        "id": "7uZTyBDAGpeE",
        "outputId": "6162e8b5-be30-42aa-98b7-7ed2453edab0"
      },
      "source": [
        "thislist = [\"apple\", \"banana\", \"cherry\"]\n",
        "print(thislist)\n",
        "thislist.remove(\"banana\")\n",
        "print(thislist)"
      ],
      "execution_count": null,
      "outputs": [
        {
          "output_type": "stream",
          "text": [
            "['apple', 'banana', 'cherry']\n",
            "['apple', 'cherry']\n"
          ],
          "name": "stdout"
        }
      ]
    },
    {
      "cell_type": "markdown",
      "metadata": {
        "id": "8bVyawPTHVc7"
      },
      "source": [
        "**Remove Specified Index**\n",
        "\n",
        "* The `pop()` method removes the specified index."
      ]
    },
    {
      "cell_type": "code",
      "metadata": {
        "colab": {
          "base_uri": "https://localhost:8080/"
        },
        "id": "7P9ggBPkHQPI",
        "outputId": "685ce00b-1a54-46f1-9834-9b0c614b1757"
      },
      "source": [
        "thislist = [\"apple\", \"banana\", \"cherry\"]\n",
        "print(thislist)\n",
        "thislist.pop(1)\n",
        "print(thislist)"
      ],
      "execution_count": null,
      "outputs": [
        {
          "output_type": "stream",
          "text": [
            "['apple', 'banana', 'cherry']\n",
            "['apple', 'cherry']\n"
          ],
          "name": "stdout"
        }
      ]
    },
    {
      "cell_type": "markdown",
      "metadata": {
        "id": "Vvo_IjnoHhzj"
      },
      "source": [
        "**NOTE** :- If you do not specify the index, the pop() method removes the last item."
      ]
    },
    {
      "cell_type": "code",
      "metadata": {
        "colab": {
          "base_uri": "https://localhost:8080/"
        },
        "id": "C10dxVfsHc1Y",
        "outputId": "24368a90-c071-438a-ba3e-8fa242551478"
      },
      "source": [
        "thislist = [\"apple\", \"banana\", \"cherry\"]\n",
        "print(thislist)\n",
        "thislist.pop()\n",
        "print(thislist)"
      ],
      "execution_count": null,
      "outputs": [
        {
          "output_type": "stream",
          "text": [
            "['apple', 'banana', 'cherry']\n",
            "['apple', 'banana']\n"
          ],
          "name": "stdout"
        }
      ]
    },
    {
      "cell_type": "markdown",
      "metadata": {
        "id": "p3ZXz9E2H06m"
      },
      "source": [
        "**`del` funtion**\n",
        "\n",
        "* The del keyword can also delete the list completely."
      ]
    },
    {
      "cell_type": "code",
      "metadata": {
        "id": "Px56xsgBHmaV"
      },
      "source": [
        "thislist = [\"apple\", \"banana\", \"cherry\"]\n",
        "del thislist\n",
        "# No output will be there as we have used del keyword"
      ],
      "execution_count": null,
      "outputs": []
    },
    {
      "cell_type": "markdown",
      "metadata": {
        "id": "-jnUIw_mIPvU"
      },
      "source": [
        "**Clear the List**\n",
        "\n",
        "* The `clear()` method empties the list.\n",
        "\n",
        "* The list still remains, but it has no content."
      ]
    },
    {
      "cell_type": "code",
      "metadata": {
        "colab": {
          "base_uri": "https://localhost:8080/"
        },
        "id": "HO6B_bHPH0FR",
        "outputId": "b4977784-a256-4e36-a3fc-3e74f34969f6"
      },
      "source": [
        "thislist = [\"apple\", \"banana\", \"cherry\"]\n",
        "thislist.clear()\n",
        "print(thislist)"
      ],
      "execution_count": null,
      "outputs": [
        {
          "output_type": "stream",
          "text": [
            "[]\n"
          ],
          "name": "stdout"
        }
      ]
    },
    {
      "cell_type": "markdown",
      "metadata": {
        "id": "1oscsn1HIi-r"
      },
      "source": [
        "\n",
        "\n",
        "---\n",
        "\n",
        "\n",
        "**Sort Lists**\n",
        "\n",
        "\n",
        "---\n",
        "\n"
      ]
    },
    {
      "cell_type": "markdown",
      "metadata": {
        "id": "hgoGJb_FIkYD"
      },
      "source": [
        "**Sort List Alphanumerically**\n",
        "\n",
        "* List objects have a `sort()` method that will sort the list alphanumerically, ascending, by default:"
      ]
    },
    {
      "cell_type": "code",
      "metadata": {
        "colab": {
          "base_uri": "https://localhost:8080/"
        },
        "id": "pT-haywhIaCm",
        "outputId": "79638ed9-d662-4f2f-d7f8-ef9ad30a2d00"
      },
      "source": [
        "thislist = [\"orange\", \"mango\", \"kiwi\", \"pineapple\", \"banana\"]\n",
        "thislist.sort()\n",
        "print(thislist)"
      ],
      "execution_count": null,
      "outputs": [
        {
          "output_type": "stream",
          "text": [
            "['banana', 'kiwi', 'mango', 'orange', 'pineapple']\n"
          ],
          "name": "stdout"
        }
      ]
    },
    {
      "cell_type": "code",
      "metadata": {
        "colab": {
          "base_uri": "https://localhost:8080/"
        },
        "id": "MtvvBYlnIuQm",
        "outputId": "b5d02adf-7b4a-4840-89e9-6da573a8c856"
      },
      "source": [
        "thislist = [100, 50, 65, 82, 23]\n",
        "thislist.sort()\n",
        "print(thislist)"
      ],
      "execution_count": null,
      "outputs": [
        {
          "output_type": "stream",
          "text": [
            "[23, 50, 65, 82, 100]\n"
          ],
          "name": "stdout"
        }
      ]
    },
    {
      "cell_type": "markdown",
      "metadata": {
        "id": "2N80UY6-I0r6"
      },
      "source": [
        "**Sort Descending**\n",
        "* To sort descending, use the keyword argument reverse = True:"
      ]
    },
    {
      "cell_type": "code",
      "metadata": {
        "colab": {
          "base_uri": "https://localhost:8080/"
        },
        "id": "gigSSXA1Iy6q",
        "outputId": "0ed48b05-3c7c-4bec-f9b1-ed920e697db6"
      },
      "source": [
        "thislist = [\"orange\", \"mango\", \"kiwi\", \"pineapple\", \"banana\"]\n",
        "thislist.sort(reverse = True)\n",
        "print(thislist)"
      ],
      "execution_count": null,
      "outputs": [
        {
          "output_type": "stream",
          "text": [
            "['pineapple', 'orange', 'mango', 'kiwi', 'banana']\n"
          ],
          "name": "stdout"
        }
      ]
    },
    {
      "cell_type": "code",
      "metadata": {
        "colab": {
          "base_uri": "https://localhost:8080/"
        },
        "id": "TQRZi7ahI7-u",
        "outputId": "99f422ec-3b9e-413f-ff00-7e5b35734956"
      },
      "source": [
        "thislist = [100, 50, 65, 82, 23]\n",
        "thislist.sort(reverse = True)\n",
        "print(thislist)"
      ],
      "execution_count": null,
      "outputs": [
        {
          "output_type": "stream",
          "text": [
            "[100, 82, 65, 50, 23]\n"
          ],
          "name": "stdout"
        }
      ]
    },
    {
      "cell_type": "markdown",
      "metadata": {
        "id": "hoqgASa0JIUM"
      },
      "source": [
        "**Join Lists**\n",
        "\n",
        "* There are several ways to join, or concatenate, two or more lists in Python.\n",
        "\n",
        "* One of the easiest ways are by using the + operator."
      ]
    },
    {
      "cell_type": "code",
      "metadata": {
        "colab": {
          "base_uri": "https://localhost:8080/"
        },
        "id": "AaDvYS2lI-qy",
        "outputId": "165a315e-11d6-498a-f90b-a609e1bc4b70"
      },
      "source": [
        "list1 = [\"a\", \"b\", \"c\"]\n",
        "list2 = [1, 2, 3]\n",
        "\n",
        "list3 = list1 + list2\n",
        "print(list3)"
      ],
      "execution_count": null,
      "outputs": [
        {
          "output_type": "stream",
          "text": [
            "['a', 'b', 'c', 1, 2, 3]\n"
          ],
          "name": "stdout"
        }
      ]
    },
    {
      "cell_type": "markdown",
      "metadata": {
        "id": "VfweE4vgJaCJ"
      },
      "source": [
        "Or you can use the `extend()` method, which purpose is to add elements from one list to another list:"
      ]
    },
    {
      "cell_type": "code",
      "metadata": {
        "colab": {
          "base_uri": "https://localhost:8080/"
        },
        "id": "fzs_N8_qJSA0",
        "outputId": "b3ef0ab3-059c-482d-8177-a0125ecce5de"
      },
      "source": [
        "list1 = [\"a\", \"b\" , \"c\"]\n",
        "list2 = [1, 2, 3]\n",
        "\n",
        "list1.extend(list2)\n",
        "print(list1)"
      ],
      "execution_count": null,
      "outputs": [
        {
          "output_type": "stream",
          "text": [
            "['a', 'b', 'c', 1, 2, 3]\n"
          ],
          "name": "stdout"
        }
      ]
    },
    {
      "cell_type": "markdown",
      "metadata": {
        "id": "DoKMjJaft-s-"
      },
      "source": [
        "# Tuples\n",
        "\n",
        "* A tuple is a collection of objects which ordered and immutable. Tuples are sequences, just like lists.\n",
        "\n",
        "* The differences between tuples and lists are, the tuples cannot be changed unlike lists and tuples use parentheses, whereas lists use square brackets.\n",
        "\n",
        "* Creating a tuple is as simple as putting different comma-separated values. Optionally you can put these comma-separated values between parentheses also."
      ]
    },
    {
      "cell_type": "code",
      "metadata": {
        "id": "ZtuBvJQ7JdHo",
        "colab": {
          "base_uri": "https://localhost:8080/"
        },
        "outputId": "7e06f756-85b9-40f2-d854-e6286c35a054"
      },
      "source": [
        "thistuple = (\"apple\", \"banana\", \"cherry\")\n",
        "print(thistuple)"
      ],
      "execution_count": null,
      "outputs": [
        {
          "output_type": "stream",
          "text": [
            "('apple', 'banana', 'cherry')\n"
          ],
          "name": "stdout"
        }
      ]
    },
    {
      "cell_type": "markdown",
      "metadata": {
        "id": "Qi7KRTD3um5l"
      },
      "source": [
        "**Tuple Length**\n",
        "\n",
        "* To determine how many items a tuple has, use the `len() `function:"
      ]
    },
    {
      "cell_type": "code",
      "metadata": {
        "colab": {
          "base_uri": "https://localhost:8080/"
        },
        "id": "oIXn71mluU-f",
        "outputId": "ba6fdae9-dd27-4ac2-f366-1a3bc4c7e266"
      },
      "source": [
        "thistuple = (\"apple\", \"banana\", \"cherry\")\n",
        "print(len(thistuple))"
      ],
      "execution_count": null,
      "outputs": [
        {
          "output_type": "stream",
          "text": [
            "3\n"
          ],
          "name": "stdout"
        }
      ]
    },
    {
      "cell_type": "code",
      "metadata": {
        "colab": {
          "base_uri": "https://localhost:8080/"
        },
        "id": "Z0Hog0gRvAEJ",
        "outputId": "d7daaa76-b8f5-4ece-9c83-b0797281fed8"
      },
      "source": [
        "thistuple = (\"apple\",)\n",
        "print(type(thistuple))\n",
        "\n",
        "#NOT a tuple\n",
        "thistuple = (\"apple\")\n",
        "print(type(thistuple))"
      ],
      "execution_count": null,
      "outputs": [
        {
          "output_type": "stream",
          "text": [
            "<class 'tuple'>\n",
            "<class 'str'>\n"
          ],
          "name": "stdout"
        }
      ]
    },
    {
      "cell_type": "markdown",
      "metadata": {
        "id": "u__es9aFvX6a"
      },
      "source": [
        "**The tuple() Constructor**\n",
        "\n",
        "* It is also possible to use the `tuple()` constructor to make a tuple."
      ]
    },
    {
      "cell_type": "code",
      "metadata": {
        "colab": {
          "base_uri": "https://localhost:8080/"
        },
        "id": "pO5jrt0cvREz",
        "outputId": "2e94b198-b0ca-47f1-9b02-f38ffda9c556"
      },
      "source": [
        "thistuple = tuple((\"apple\", \"banana\", \"cherry\")) # note the double round-brackets\n",
        "print(thistuple)"
      ],
      "execution_count": null,
      "outputs": [
        {
          "output_type": "stream",
          "text": [
            "('apple', 'banana', 'cherry')\n"
          ],
          "name": "stdout"
        }
      ]
    },
    {
      "cell_type": "markdown",
      "metadata": {
        "id": "qSS8OQXlwbxh"
      },
      "source": [
        "**Access Tuple Items**\n",
        "\n",
        "* To access values in tuple, use the square brackets for slicing along with the index or indices to obtain value available at that index."
      ]
    },
    {
      "cell_type": "markdown",
      "metadata": {
        "id": "c3sFwryIw6Cw"
      },
      "source": [
        "  * There are many ways for access tuples\n",
        "\n"
      ]
    },
    {
      "cell_type": "markdown",
      "metadata": {
        "id": "UlNwM_cRxTZE"
      },
      "source": [
        "1. **Indexing**\n",
        "\n",
        "We can use the index operator `[ ]` to access an item in a tuple, where the index starts from 0.\n",
        "\n",
        " * So, a tuple having 6 elements will have indices from 0 to 5. Trying to access an index outside of the tuple index range\n",
        " \n",
        "    (6,7,... in this example) will raise an `IndexError`.\n",
        "\n",
        " * The index must be an integer, so we cannot use float or other types. This will result in `TypeError`."
      ]
    },
    {
      "cell_type": "code",
      "metadata": {
        "colab": {
          "base_uri": "https://localhost:8080/"
        },
        "id": "roz4-Sr4wIED",
        "outputId": "033a3bf9-7d12-488a-f8ff-87cfeab10b13"
      },
      "source": [
        "# Accessing tuple elements using indexing\n",
        "my_tuple = ('p','y','t','h','o','n')\n",
        "\n",
        "print(my_tuple[0])   # 'p' \n",
        "print(my_tuple[5])   # 't'\n",
        "\n",
        "# IndexError: list index out of range\n",
        "# print(my_tuple[6])\n",
        "\n",
        "# Index must be an integer\n",
        "# TypeError: list indices must be integers, not float\n",
        "# my_tuple[2.0]\n",
        "\n",
        "# nested tuple\n",
        "n_tuple = (\"mouse\", [8, 4, 6], (1, 2, 3))\n",
        "\n",
        "# nested index\n",
        "print(n_tuple[0][3])       # 's'\n",
        "print(n_tuple[1][1])       # 4"
      ],
      "execution_count": null,
      "outputs": [
        {
          "output_type": "stream",
          "text": [
            "p\n",
            "n\n",
            "s\n",
            "4\n"
          ],
          "name": "stdout"
        }
      ]
    },
    {
      "cell_type": "markdown",
      "metadata": {
        "id": "PeoscM7tyRId"
      },
      "source": [
        "2. **Negative Indexing**\n",
        "\n",
        " * Python allows negative indexing for its sequences.\n",
        "\n",
        " * The index of -1 refers to the last item, -2 to the second last item and so on."
      ]
    },
    {
      "cell_type": "code",
      "metadata": {
        "colab": {
          "base_uri": "https://localhost:8080/"
        },
        "id": "c5s2HAX3xhCM",
        "outputId": "b89282ab-da2b-4b27-e935-e4ac937e7858"
      },
      "source": [
        "# Negative indexing for accessing tuple elements\n",
        "my_tuple = ('p', 'y', 't', 'h', 'o', 'n')\n",
        "\n",
        "# Output: 't'\n",
        "print(my_tuple[-1])\n",
        "\n",
        "# Output: 'p'\n",
        "print(my_tuple[-6])"
      ],
      "execution_count": null,
      "outputs": [
        {
          "output_type": "stream",
          "text": [
            "n\n",
            "p\n"
          ],
          "name": "stdout"
        }
      ]
    },
    {
      "cell_type": "markdown",
      "metadata": {
        "id": "p2z1HzKrytZp"
      },
      "source": [
        "3. Slicing\n",
        "\n",
        " * We can access a range of items in a tuple by using the slicing operator colon `:`  ."
      ]
    },
    {
      "cell_type": "code",
      "metadata": {
        "colab": {
          "base_uri": "https://localhost:8080/"
        },
        "id": "dNmQLrNdyf9G",
        "outputId": "dd9e18b6-96a4-46b6-f82a-30df05e14424"
      },
      "source": [
        "# Accessing tuple elements using slicing\n",
        "my_tuple = ('p','y','t','h','o','n','s','i','r','j')\n",
        "\n",
        "\n",
        "print(my_tuple[1:4])\n",
        "\n",
        "\n",
        "print(my_tuple[:-7])\n",
        "\n",
        "\n",
        "print(my_tuple[7:])\n",
        "\n",
        "\n",
        "print(my_tuple[:])"
      ],
      "execution_count": null,
      "outputs": [
        {
          "output_type": "stream",
          "text": [
            "('y', 't', 'h')\n",
            "('p', 'y', 't')\n",
            "('i', 'r', 'j')\n",
            "('p', 'y', 't', 'h', 'o', 'n', 's', 'i', 'r', 'j')\n"
          ],
          "name": "stdout"
        }
      ]
    },
    {
      "cell_type": "markdown",
      "metadata": {
        "id": "GJHuUavjzV2R"
      },
      "source": [
        "**Change Tuple Values**\n",
        "\n",
        "1. Unlike lists, tuples are immutable.\n",
        "\n",
        " * This means that elements of a tuple cannot be changed once they have been assigned.\n",
        "\n",
        " * But, if the element is itself a mutable data type like a list, its nested items can be changed."
      ]
    },
    {
      "cell_type": "code",
      "metadata": {
        "colab": {
          "base_uri": "https://localhost:8080/"
        },
        "id": "e_J3gINGzD_-",
        "outputId": "20f98b06-3ce9-40ea-8dc3-8f259ee29357"
      },
      "source": [
        "x = (\"apple\", \"banana\", \"cherry\")\n",
        "y = list(x)\n",
        "y[1] = \"kiwi\"\n",
        "x = tuple(y)\n",
        "\n",
        "print(x)"
      ],
      "execution_count": null,
      "outputs": [
        {
          "output_type": "stream",
          "text": [
            "('apple', 'kiwi', 'cherry')\n"
          ],
          "name": "stdout"
        }
      ]
    },
    {
      "cell_type": "markdown",
      "metadata": {
        "id": "OAShaFqn0PTs"
      },
      "source": [
        "**Add Items in tuple**\n",
        "\n",
        " * Once a tuple is created, you cannot add items to it.\n",
        " * For changing a tuple, you can convert it into a list, add your item(s), and convert it back into a tuple."
      ]
    },
    {
      "cell_type": "code",
      "metadata": {
        "colab": {
          "base_uri": "https://localhost:8080/"
        },
        "id": "wG8EWMy1z3-q",
        "outputId": "f442cf2b-1c17-4c30-8233-1028c506761c"
      },
      "source": [
        "thistuple = (\"apple\", \"banana\", \"cherry\")\n",
        "y = list(thistuple)\n",
        "y.append(\"orange\")\n",
        "thistuple = tuple(y)\n",
        "print(thistuple)"
      ],
      "execution_count": null,
      "outputs": [
        {
          "output_type": "stream",
          "text": [
            "('apple', 'banana', 'cherry', 'orange')\n"
          ],
          "name": "stdout"
        }
      ]
    },
    {
      "cell_type": "markdown",
      "metadata": {
        "id": "0wPjt8I81XS8"
      },
      "source": [
        " * We can use `+` operator to combine two tuples. This is called **concatenation**.\n",
        "\n",
        " * We can also repeat the elements in a tuple for a given number of times using the `*` operator.\n",
        "\n",
        " * Both `+` and `*` operations result in a new tuple."
      ]
    },
    {
      "cell_type": "code",
      "metadata": {
        "colab": {
          "base_uri": "https://localhost:8080/"
        },
        "id": "IDwwbObm07_5",
        "outputId": "521cfc8c-606a-4f29-8ad6-b473a416feed"
      },
      "source": [
        "# Concatenation\n",
        "# Output: (1, 2, 3, 4, 5, 6)\n",
        "print((1, 2, 3) + (4, 5, 6))\n",
        "\n",
        "# Repeat\n",
        "# Output: ('Repeat', 'Repeat', 'Repeat')\n",
        "print((\"Repeat\",) * 3)"
      ],
      "execution_count": null,
      "outputs": [
        {
          "output_type": "stream",
          "text": [
            "(1, 2, 3, 4, 5, 6)\n",
            "('Repeat', 'Repeat', 'Repeat')\n"
          ],
          "name": "stdout"
        }
      ]
    },
    {
      "cell_type": "markdown",
      "metadata": {
        "id": "WgfsB-U32LfC"
      },
      "source": [
        "**Remove Items**\n",
        " * Tuples are unchangeable, so you cannot remove items from it, but you can use the same workaround as we used for changing and adding tuple items:"
      ]
    },
    {
      "cell_type": "code",
      "metadata": {
        "colab": {
          "base_uri": "https://localhost:8080/"
        },
        "id": "8LXp4fRg1_dJ",
        "outputId": "05c9419e-8bd9-43c4-e76c-bd8290022373"
      },
      "source": [
        "thistuple = (\"apple\", \"banana\", \"cherry\")\n",
        "y = list(thistuple)\n",
        "y.remove(\"apple\")\n",
        "thistuple = tuple(y)\n",
        "print(thistuple)"
      ],
      "execution_count": null,
      "outputs": [
        {
          "output_type": "stream",
          "text": [
            "('banana', 'cherry')\n"
          ],
          "name": "stdout"
        }
      ]
    },
    {
      "cell_type": "markdown",
      "metadata": {
        "id": "EnqNZwQw2oLM"
      },
      "source": [
        "**Delete Tuple Elements**\n",
        "\n",
        " * Removing individual tuple elements is not possible. There is, of course, nothing wrong with putting together another tuple with the undesired elements discarded.\n",
        "\n",
        " * To explicitly remove an entire tuple, just use the del statement"
      ]
    },
    {
      "cell_type": "code",
      "metadata": {
        "id": "x0PszTgb2kOQ"
      },
      "source": [
        "# Deleting tuples\n",
        "my_tuple = ('p', 'y', 't', 'h', 'o', 'n', 's', 'i', 'r', 'j')\n",
        "\n",
        "del my_tuple"
      ],
      "execution_count": null,
      "outputs": []
    },
    {
      "cell_type": "markdown",
      "metadata": {
        "id": "6NZhbYGgT97c"
      },
      "source": [
        "**Unpacking a Tuple**"
      ]
    },
    {
      "cell_type": "markdown",
      "metadata": {
        "id": "pLSG3q7uUDJv"
      },
      "source": [
        " * When we create a tuple, we normally assign values to it. This is called \"packing\" a tuple:"
      ]
    },
    {
      "cell_type": "code",
      "metadata": {
        "id": "z4Px7ZwW3z5W"
      },
      "source": [
        "fruits = (\"apple\", \"banana\", \"cherry\")"
      ],
      "execution_count": null,
      "outputs": []
    },
    {
      "cell_type": "code",
      "metadata": {
        "colab": {
          "base_uri": "https://localhost:8080/"
        },
        "id": "9revzhO1UGeH",
        "outputId": "f37f126c-3e60-4bb6-eb7a-0da93c9d605c"
      },
      "source": [
        "fruits = (\"apple\", \"banana\", \"cherry\")\n",
        "\n",
        "(green, yellow, red) = fruits\n",
        "\n",
        "print(green)\n",
        "print(yellow)\n",
        "print(red)"
      ],
      "execution_count": null,
      "outputs": [
        {
          "output_type": "stream",
          "text": [
            "apple\n",
            "banana\n",
            "cherry\n"
          ],
          "name": "stdout"
        }
      ]
    },
    {
      "cell_type": "markdown",
      "metadata": {
        "id": "EQMwENeYUXoA"
      },
      "source": [
        "**Using Asterisk**  `*`"
      ]
    },
    {
      "cell_type": "markdown",
      "metadata": {
        "id": "m9txqDfJUcGQ"
      },
      "source": [
        "- If the number of variables is less than the number of values, you can add an `*` to the variable name and the values will be assigned to the variable as a list:"
      ]
    },
    {
      "cell_type": "code",
      "metadata": {
        "colab": {
          "base_uri": "https://localhost:8080/"
        },
        "id": "Z6Ku3SFqULuT",
        "outputId": "8b741d72-7913-477d-a5b6-5e050f0c305d"
      },
      "source": [
        "fruits = (\"apple\", \"banana\", \"cherry\", \"strawberry\", \"raspberry\")\n",
        "\n",
        "(green, yellow, *red) = fruits\n",
        "\n",
        "print(green)\n",
        "print(yellow)\n",
        "print(red)"
      ],
      "execution_count": null,
      "outputs": [
        {
          "output_type": "stream",
          "text": [
            "apple\n",
            "banana\n",
            "['cherry', 'strawberry', 'raspberry']\n"
          ],
          "name": "stdout"
        }
      ]
    },
    {
      "cell_type": "markdown",
      "metadata": {
        "id": "r6AG5BJ3Us5T"
      },
      "source": [
        "- If the asterix is added to another variable name than the last, Python will assign values to the variable until the number of values left matches the number of variables left."
      ]
    },
    {
      "cell_type": "code",
      "metadata": {
        "colab": {
          "base_uri": "https://localhost:8080/"
        },
        "id": "dr37-YtQUipf",
        "outputId": "1541c487-1e5d-4d8c-9367-4a4b1069287c"
      },
      "source": [
        "fruits = (\"apple\", \"mango\", \"papaya\", \"pineapple\", \"cherry\")\n",
        "\n",
        "(green, *tropic, red) = fruits\n",
        "\n",
        "print(green)\n",
        "print(tropic)\n",
        "print(red)"
      ],
      "execution_count": null,
      "outputs": [
        {
          "output_type": "stream",
          "text": [
            "apple\n",
            "['mango', 'papaya', 'pineapple']\n",
            "cherry\n"
          ],
          "name": "stdout"
        }
      ]
    },
    {
      "cell_type": "markdown",
      "metadata": {
        "id": "hPtuhopPU4b2"
      },
      "source": [
        " **Join Two Tuples**\n",
        "\n",
        " To join two or more tuples you can use the `+` operator:"
      ]
    },
    {
      "cell_type": "code",
      "metadata": {
        "colab": {
          "base_uri": "https://localhost:8080/"
        },
        "id": "kBj8qDSHUwuR",
        "outputId": "47cf28a5-3cc7-447b-e502-c18f90a0037f"
      },
      "source": [
        "tuple1 = (\"a\", \"b\" , \"c\")\n",
        "tuple2 = (1, 2, 3)\n",
        "\n",
        "tuple3 = tuple1 + tuple2\n",
        "print(tuple3)"
      ],
      "execution_count": null,
      "outputs": [
        {
          "output_type": "stream",
          "text": [
            "('a', 'b', 'c', 1, 2, 3)\n"
          ],
          "name": "stdout"
        }
      ]
    },
    {
      "cell_type": "markdown",
      "metadata": {
        "id": "9EjG32RvVKof"
      },
      "source": [
        "**Multiply Tuples**\n",
        "\n",
        "\n",
        "If you want to multiply the content of a tuple a given number of times, you can use the `*` operator:"
      ]
    },
    {
      "cell_type": "code",
      "metadata": {
        "colab": {
          "base_uri": "https://localhost:8080/"
        },
        "id": "1poMZcgqVFsm",
        "outputId": "f6a1699d-687a-4eda-933f-53645dd26f98"
      },
      "source": [
        "fruits = (\"apple\", \"banana\", \"cherry\")\n",
        "mytuple = fruits * 2\n",
        "\n",
        "print(mytuple)"
      ],
      "execution_count": null,
      "outputs": [
        {
          "output_type": "stream",
          "text": [
            "('apple', 'banana', 'cherry', 'apple', 'banana', 'cherry')\n"
          ],
          "name": "stdout"
        }
      ]
    },
    {
      "cell_type": "markdown",
      "metadata": {
        "id": "g6BAZu-OVf2C"
      },
      "source": [
        "# Sets"
      ]
    },
    {
      "cell_type": "markdown",
      "metadata": {
        "id": "irTfCVEvVo-Z"
      },
      "source": [
        "1. A set is an unordered collection of items. Every set element is unique (no duplicates) and must be immutable (cannot be changed).\n",
        "\n",
        " * However, a set itself is mutable. We can add or remove items from it.\n",
        "\n",
        "2. Sets can also be used to perform mathematical set operations like union, intersection, symmetric difference, etc."
      ]
    },
    {
      "cell_type": "markdown",
      "metadata": {
        "id": "TDpXEetVVxl3"
      },
      "source": [
        "**Creating Python Sets**\n",
        "\n",
        " * A set is created by placing all the items (elements) inside curly braces `{}`, separated by comma, or by using the built-in `set()` function.\n",
        "\n",
        " * It can have any number of items and they may be of different types (integer, float, tuple, string etc.). But a set cannot have mutable elements like lists, sets or dictionaries as its elements."
      ]
    },
    {
      "cell_type": "code",
      "metadata": {
        "colab": {
          "base_uri": "https://localhost:8080/"
        },
        "id": "eqDTrM4tV8ud",
        "outputId": "fd752ad2-1074-42e4-9d47-d247249baed6"
      },
      "source": [
        "thisset = {\"apple\", \"banana\", \"cherry\"}\n",
        "print(thisset)\n",
        "\n",
        "# Different types of sets in Python\n",
        "# set of integers\n",
        "my_set = {1, 2, 3}\n",
        "print(my_set)\n",
        "\n",
        "# set of mixed datatypes\n",
        "my_set = {1.0, \"Hello\", (1, 2, 3)}\n",
        "print(my_set)"
      ],
      "execution_count": null,
      "outputs": [
        {
          "output_type": "stream",
          "text": [
            "{'cherry', 'banana', 'apple'}\n",
            "{1, 2, 3}\n",
            "{1.0, 'Hello', (1, 2, 3)}\n"
          ],
          "name": "stdout"
        }
      ]
    },
    {
      "cell_type": "markdown",
      "metadata": {
        "id": "Id8uvR1mXn0s"
      },
      "source": [
        "**Set Items**\n",
        "\n",
        " * Set items are unordered, unchangeable, and do not allow duplicate values.\n",
        "\n",
        "**Unordered**\n",
        "\n",
        " * Unordered means that the items in a set do not have a defined order.\n",
        "\n",
        " * Set items can appear in a different order every time you use them, and cannot be referred to by index or key.\n",
        "\n",
        "**Unchangeable**\n",
        "\n",
        "* Sets are unchangeable, meaning that we cannot change the items after the set has been created."
      ]
    },
    {
      "cell_type": "markdown",
      "metadata": {
        "id": "uuEKkNXmX19l"
      },
      "source": [
        "**Duplicates Not Allowed**\n",
        "\n",
        "Sets cannot have two items with the same value."
      ]
    },
    {
      "cell_type": "code",
      "metadata": {
        "colab": {
          "base_uri": "https://localhost:8080/"
        },
        "id": "iB-rx9EsWH7L",
        "outputId": "c02b0c7d-f22c-4b9b-bc7e-4da7dac5dc71"
      },
      "source": [
        "thisset = {\"apple\", \"banana\", \"cherry\", \"apple\"}\n",
        "\n",
        "print(thisset)"
      ],
      "execution_count": null,
      "outputs": [
        {
          "output_type": "stream",
          "text": [
            "{'cherry', 'banana', 'apple'}\n"
          ],
          "name": "stdout"
        }
      ]
    },
    {
      "cell_type": "markdown",
      "metadata": {
        "id": "wihHLROVX9eF"
      },
      "source": [
        "**Get the Length of a Set**\n",
        "\n",
        "To determine how many items a set has, use the `len()` method."
      ]
    },
    {
      "cell_type": "code",
      "metadata": {
        "colab": {
          "base_uri": "https://localhost:8080/"
        },
        "id": "wON3NCn5X6Gi",
        "outputId": "feceb3b3-ff1f-4316-83d0-f845b1512a53"
      },
      "source": [
        "thisset = {\"apple\", \"banana\", \"cherry\"}\n",
        "\n",
        "print(len(thisset))"
      ],
      "execution_count": null,
      "outputs": [
        {
          "output_type": "stream",
          "text": [
            "3\n"
          ],
          "name": "stdout"
        }
      ]
    },
    {
      "cell_type": "markdown",
      "metadata": {
        "id": "1tnsFGlKYHbj"
      },
      "source": [
        "Set Items - **Data Types**"
      ]
    },
    {
      "cell_type": "code",
      "metadata": {
        "colab": {
          "base_uri": "https://localhost:8080/"
        },
        "id": "BTCxK1QJYDWZ",
        "outputId": "e6241922-3387-4cb7-8d3f-4c6aa3872ceb"
      },
      "source": [
        "set1 = {\"apple\", \"banana\", \"cherry\"}\n",
        "set2 = {1, 5, 7, 9, 3}\n",
        "set3 = {True, False, False}\n",
        "\n",
        "print(set1)\n",
        "print(set2)\n",
        "print(set3)"
      ],
      "execution_count": null,
      "outputs": [
        {
          "output_type": "stream",
          "text": [
            "{'cherry', 'banana', 'apple'}\n",
            "{1, 3, 5, 7, 9}\n",
            "{False, True}\n"
          ],
          "name": "stdout"
        }
      ]
    },
    {
      "cell_type": "code",
      "metadata": {
        "colab": {
          "base_uri": "https://localhost:8080/"
        },
        "id": "wgnKJpl6YKpa",
        "outputId": "595e4b94-7032-466a-d8d3-531e07538cee"
      },
      "source": [
        "set1 = {\"abc\", 34, True, 40, \"male\"}\n",
        "print(set1)"
      ],
      "execution_count": null,
      "outputs": [
        {
          "output_type": "stream",
          "text": [
            "{'male', True, 34, 40, 'abc'}\n"
          ],
          "name": "stdout"
        }
      ]
    },
    {
      "cell_type": "markdown",
      "metadata": {
        "id": "WTXJBO_xYeQN"
      },
      "source": [
        "`type()`\n",
        "\n",
        "From Python's perspective, sets are defined as objects with the data type '`set`':"
      ]
    },
    {
      "cell_type": "code",
      "metadata": {
        "colab": {
          "base_uri": "https://localhost:8080/"
        },
        "id": "NG7gzvn-YUNk",
        "outputId": "99b22597-daf2-4a7a-b3cf-2173e462d7be"
      },
      "source": [
        "myset = {\"apple\", \"banana\", \"cherry\"}\n",
        "print(type(myset))"
      ],
      "execution_count": null,
      "outputs": [
        {
          "output_type": "stream",
          "text": [
            "<class 'set'>\n"
          ],
          "name": "stdout"
        }
      ]
    },
    {
      "cell_type": "markdown",
      "metadata": {
        "id": "X6WH8rhkYynQ"
      },
      "source": [
        "**Access Set Items**\n",
        "\n",
        "You cannot access items in a set by referring to an index or a key.\n",
        "\n",
        "But you can loop through the set items using a` for loop`, or ask if a specified value is present in a set, by using the `in` keyword."
      ]
    },
    {
      "cell_type": "code",
      "metadata": {
        "colab": {
          "base_uri": "https://localhost:8080/"
        },
        "id": "O_6N71d2Yky2",
        "outputId": "3765ea7f-37d5-4a9b-a0f6-f0ed03cf7450"
      },
      "source": [
        "thisset = {\"apple\", \"banana\", \"cherry\"}\n",
        "\n",
        "for x in thisset:\n",
        "  print(x)\n"
      ],
      "execution_count": null,
      "outputs": [
        {
          "output_type": "stream",
          "text": [
            "cherry\n",
            "banana\n",
            "apple\n"
          ],
          "name": "stdout"
        }
      ]
    },
    {
      "cell_type": "code",
      "metadata": {
        "colab": {
          "base_uri": "https://localhost:8080/"
        },
        "id": "Cfk9euoZY_iG",
        "outputId": "afc4bdca-5fe1-4b91-f6de-c94e75b722c2"
      },
      "source": [
        "thisset = {\"apple\", \"banana\", \"cherry\"}\n",
        "\n",
        "print(\"cherry\" in thisset)"
      ],
      "execution_count": null,
      "outputs": [
        {
          "output_type": "stream",
          "text": [
            "True\n"
          ],
          "name": "stdout"
        }
      ]
    },
    {
      "cell_type": "markdown",
      "metadata": {
        "id": "FhuE6c2UZd2A"
      },
      "source": [
        "**Add Items**\n",
        "\n",
        "- To add one item to a set use the `add()` method."
      ]
    },
    {
      "cell_type": "code",
      "metadata": {
        "colab": {
          "base_uri": "https://localhost:8080/"
        },
        "id": "gF-cwsfKZCxa",
        "outputId": "eb45f8c5-12a4-44d4-d21d-78f4a1e13737"
      },
      "source": [
        "thisset = {\"apple\", \"banana\", \"cherry\"}\n",
        "\n",
        "thisset.add(\"orange\")\n",
        "\n",
        "print(thisset)"
      ],
      "execution_count": null,
      "outputs": [
        {
          "output_type": "stream",
          "text": [
            "{'orange', 'cherry', 'banana', 'apple'}\n"
          ],
          "name": "stdout"
        }
      ]
    },
    {
      "cell_type": "markdown",
      "metadata": {
        "id": "NpZORIgVZ3fD"
      },
      "source": [
        "- To add items from another set into the current set, use the `update()` method"
      ]
    },
    {
      "cell_type": "code",
      "metadata": {
        "colab": {
          "base_uri": "https://localhost:8080/"
        },
        "id": "j9_6YuX3ZoWE",
        "outputId": "9db51657-4532-40e5-af9b-24ddf89ff4b4"
      },
      "source": [
        "thisset = {\"apple\", \"banana\", \"cherry\"}\n",
        "tropical = {\"pineapple\", \"mango\", \"papaya\"}\n",
        "\n",
        "thisset.update(tropical)\n",
        "\n",
        "print(thisset)"
      ],
      "execution_count": null,
      "outputs": [
        {
          "output_type": "stream",
          "text": [
            "{'mango', 'cherry', 'banana', 'apple', 'papaya', 'pineapple'}\n"
          ],
          "name": "stdout"
        }
      ]
    },
    {
      "cell_type": "markdown",
      "metadata": {
        "id": "7eRoDQBcaJ7e"
      },
      "source": [
        "The object in the` update()` method does not have be a set, it can be any iterable object `(tuples, lists, dictionaries etc.).`"
      ]
    },
    {
      "cell_type": "code",
      "metadata": {
        "colab": {
          "base_uri": "https://localhost:8080/"
        },
        "id": "JXu9Y9QCZ7P2",
        "outputId": "ec13dd24-519f-42bb-fca0-5c4a2ce8f886"
      },
      "source": [
        "thisset = {\"apple\", \"banana\", \"cherry\"}\n",
        "mylist = [\"kiwi\", \"orange\"]\n",
        "\n",
        "thisset.update(mylist)\n",
        "\n",
        "print(thisset)"
      ],
      "execution_count": null,
      "outputs": [
        {
          "output_type": "stream",
          "text": [
            "{'banana', 'kiwi', 'cherry', 'apple', 'orange'}\n"
          ],
          "name": "stdout"
        }
      ]
    },
    {
      "cell_type": "markdown",
      "metadata": {
        "id": "cHVJlEE1aXxu"
      },
      "source": [
        "**Removing elements from a set**"
      ]
    },
    {
      "cell_type": "markdown",
      "metadata": {
        "id": "YDnJTUywacxW"
      },
      "source": [
        "A particular item can be removed from a set using the methods `discard()` and `remove()`.\n",
        "\n",
        "The only difference between the two is that the `discard()` function leaves a set unchanged if the element is not present in the set. On the other hand, the `remove()` function will raise an error in such a condition (if element is not present in the set)."
      ]
    },
    {
      "cell_type": "code",
      "metadata": {
        "colab": {
          "base_uri": "https://localhost:8080/"
        },
        "id": "cWzUGesMaOCF",
        "outputId": "2024a2d6-6543-4455-abab-42e6434e4f57"
      },
      "source": [
        "\n",
        "my_set = {1, 3, 4, 5, 6}\n",
        "print(my_set)\n",
        "\n",
        "\n",
        "my_set.discard(4)\n",
        "print(my_set)\n",
        "\n",
        "my_set.remove(6)\n",
        "print(my_set)\n",
        "\n",
        "my_set.discard(2)\n",
        "print(my_set)\n",
        "\n",
        "my_set.clear()\n",
        "print(my_set)\n",
        "\n",
        "\n"
      ],
      "execution_count": null,
      "outputs": [
        {
          "output_type": "stream",
          "text": [
            "{1, 3, 4, 5, 6}\n",
            "{1, 3, 5, 6}\n",
            "{1, 3, 5}\n",
            "{1, 3, 5}\n",
            "set()\n"
          ],
          "name": "stdout"
        }
      ]
    },
    {
      "cell_type": "markdown",
      "metadata": {
        "id": "FAehSfUGbKM2"
      },
      "source": [
        "Remove the last item by using the `pop()` method:"
      ]
    },
    {
      "cell_type": "code",
      "metadata": {
        "colab": {
          "base_uri": "https://localhost:8080/"
        },
        "id": "W0SzrGQBarX7",
        "outputId": "0cc3a004-3f04-409e-9dbb-bd152f43688b"
      },
      "source": [
        "thisset = {\"apple\", \"banana\", \"cherry\"}\n",
        "\n",
        "x = thisset.pop()\n",
        "\n",
        "print(x)\n",
        "\n",
        "print(thisset)"
      ],
      "execution_count": null,
      "outputs": [
        {
          "output_type": "stream",
          "text": [
            "cherry\n",
            "{'banana', 'apple'}\n"
          ],
          "name": "stdout"
        }
      ]
    },
    {
      "cell_type": "markdown",
      "metadata": {
        "id": "HA66rL5pbmnN"
      },
      "source": [
        "**Join Two Sets**\n",
        "\n",
        "There are several ways to join two or more sets in Python.\n",
        "\n",
        "You can use the `union()` method that returns a new set containing all items from both sets, or the `update()` method that inserts all the items from one set into another:"
      ]
    },
    {
      "cell_type": "markdown",
      "metadata": {
        "id": "oeTyEwf9by8l"
      },
      "source": [
        "The `union()` method returns a new set with all items from both sets:"
      ]
    },
    {
      "cell_type": "code",
      "metadata": {
        "colab": {
          "base_uri": "https://localhost:8080/"
        },
        "id": "W8Ztb_mZbDfw",
        "outputId": "819c2896-5559-4c9f-c75f-75af284ba76e"
      },
      "source": [
        "set1 = {\"a\", \"b\" , \"c\"}\n",
        "set2 = {1, 2, 3}\n",
        "\n",
        "set3 = set1.union(set2)\n",
        "print(set3)\n"
      ],
      "execution_count": null,
      "outputs": [
        {
          "output_type": "stream",
          "text": [
            "{1, 2, 3, 'b', 'c', 'a'}\n"
          ],
          "name": "stdout"
        }
      ]
    },
    {
      "cell_type": "markdown",
      "metadata": {
        "id": "6FCPRCg5cBb8"
      },
      "source": [
        "The `update()` method inserts the items in set2 into set1:"
      ]
    },
    {
      "cell_type": "code",
      "metadata": {
        "colab": {
          "base_uri": "https://localhost:8080/"
        },
        "id": "TCN8vdHhb3ag",
        "outputId": "481f83d6-8700-41e4-edb6-ded8dfbebafe"
      },
      "source": [
        "set1 = {\"a\", \"b\" , \"c\"}\n",
        "set2 = {1, 2, 3}\n",
        "\n",
        "set1.update(set2)\n",
        "print(set1)"
      ],
      "execution_count": null,
      "outputs": [
        {
          "output_type": "stream",
          "text": [
            "{1, 2, 3, 'b', 'c', 'a'}\n"
          ],
          "name": "stdout"
        }
      ]
    },
    {
      "cell_type": "markdown",
      "metadata": {
        "id": "mSJMDP1ecfKt"
      },
      "source": [
        "The `update()` method inserts the items in set2 into set1:"
      ]
    },
    {
      "cell_type": "code",
      "metadata": {
        "colab": {
          "base_uri": "https://localhost:8080/"
        },
        "id": "qil5ROCfcGyD",
        "outputId": "79965101-f256-467e-b778-aa7a8443a59d"
      },
      "source": [
        "set1 = {\"a\", \"b\" , \"c\"}\n",
        "set2 = {1, 2, 3}\n",
        "\n",
        "set1.update(set2)\n",
        "print(set1)"
      ],
      "execution_count": null,
      "outputs": [
        {
          "output_type": "stream",
          "text": [
            "{1, 2, 3, 'b', 'c', 'a'}\n"
          ],
          "name": "stdout"
        }
      ]
    },
    {
      "cell_type": "markdown",
      "metadata": {
        "id": "w9HceAb8cxj2"
      },
      "source": [
        "Both `union()` and `update()` will exclude any duplicate items."
      ]
    },
    {
      "cell_type": "markdown",
      "metadata": {
        "id": "kN_Iup0fc17M"
      },
      "source": [
        "**Keep ONLY the Duplicates**\n",
        "\n",
        "The `intersection_update()` method will keep only the items that are present in both sets.\n",
        "\n"
      ]
    },
    {
      "cell_type": "code",
      "metadata": {
        "colab": {
          "base_uri": "https://localhost:8080/"
        },
        "id": "LRxtSAugchr6",
        "outputId": "9373fc3c-7011-4d64-e536-6afe23949d59"
      },
      "source": [
        "x = {\"apple\", \"banana\", \"cherry\"}\n",
        "y = {\"google\", \"microsoft\", \"apple\"}\n",
        "\n",
        "x.intersection_update(y)\n",
        "\n",
        "print(x)"
      ],
      "execution_count": null,
      "outputs": [
        {
          "output_type": "stream",
          "text": [
            "{'apple'}\n"
          ],
          "name": "stdout"
        }
      ]
    },
    {
      "cell_type": "markdown",
      "metadata": {
        "id": "ZFPeTFk1doWj"
      },
      "source": [
        "The `intersection(`) method will return a new set, that only contains the items that are present in both sets."
      ]
    },
    {
      "cell_type": "code",
      "metadata": {
        "colab": {
          "base_uri": "https://localhost:8080/"
        },
        "id": "h4lqaG8kc7c4",
        "outputId": "bed2335d-612f-43c9-bc86-8e471a026614"
      },
      "source": [
        "x = {\"apple\", \"banana\", \"cherry\"}\n",
        "y = {\"google\", \"microsoft\", \"apple\"}\n",
        "\n",
        "z = x.intersection(y)\n",
        "\n",
        "print(z)"
      ],
      "execution_count": null,
      "outputs": [
        {
          "output_type": "stream",
          "text": [
            "{'apple'}\n"
          ],
          "name": "stdout"
        }
      ]
    },
    {
      "cell_type": "markdown",
      "metadata": {
        "id": "eCXbFT8Idy3V"
      },
      "source": [
        "**Keep All, But NOT the Duplicates**\n",
        "\n",
        "The `symmetric_difference_update()` method will keep only the elements that are NOT present in both sets."
      ]
    },
    {
      "cell_type": "code",
      "metadata": {
        "colab": {
          "base_uri": "https://localhost:8080/"
        },
        "id": "Qp7QrUiadtsM",
        "outputId": "9585a243-ee79-4b18-f1df-ff13e82a0d0b"
      },
      "source": [
        "x = {\"apple\", \"banana\", \"cherry\"}\n",
        "y = {\"google\", \"microsoft\", \"apple\"}\n",
        "\n",
        "x.symmetric_difference_update(y)\n",
        "\n",
        "print(x)"
      ],
      "execution_count": null,
      "outputs": [
        {
          "output_type": "stream",
          "text": [
            "{'google', 'banana', 'microsoft', 'cherry'}\n"
          ],
          "name": "stdout"
        }
      ]
    },
    {
      "cell_type": "markdown",
      "metadata": {
        "id": "PY93bgQmd-zd"
      },
      "source": [
        "The `symmetric_difference()` method will return a new set, that contains only the elements that are NOT present in both sets."
      ]
    },
    {
      "cell_type": "code",
      "metadata": {
        "colab": {
          "base_uri": "https://localhost:8080/"
        },
        "id": "9BysGj9ed5yI",
        "outputId": "6b61377f-8b94-49ef-cc92-c58e3d37c566"
      },
      "source": [
        "x = {\"apple\", \"banana\", \"cherry\"}\n",
        "y = {\"google\", \"microsoft\", \"apple\"}\n",
        "\n",
        "z = x.symmetric_difference(y)\n",
        "\n",
        "print(z)"
      ],
      "execution_count": null,
      "outputs": [
        {
          "output_type": "stream",
          "text": [
            "{'google', 'banana', 'microsoft', 'cherry'}\n"
          ],
          "name": "stdout"
        }
      ]
    },
    {
      "cell_type": "markdown",
      "metadata": {
        "id": "79G_ofVoe5y_"
      },
      "source": [
        "# Dictionary\n"
      ]
    },
    {
      "cell_type": "markdown",
      "metadata": {
        "id": "fkxhFU8Ke9fV"
      },
      "source": [
        "A dictionary consists of keys and values. It is helpful to compare a dictionary to a list. Instead of the numerical indexes such as a list, dictionaries have keys. These keys are the keys that are used to access values within a dictionary."
      ]
    },
    {
      "cell_type": "markdown",
      "metadata": {
        "id": "EJ9ywmK-3TNM"
      },
      "source": [
        "<img src=\"https://s3-api.us-geo.objectstorage.softlayer.net/cf-courses-data/CognitiveClass/PY0101EN/Chapter%202/Images/DictsList.png\" width=\"650\" />"
      ]
    },
    {
      "cell_type": "code",
      "metadata": {
        "colab": {
          "base_uri": "https://localhost:8080/"
        },
        "id": "VtT8VXdXeDnw",
        "outputId": "8282da63-050d-4831-8f45-ac4ade5464ec"
      },
      "source": [
        "# Create the dictionary\n",
        "\n",
        "Dict = {\"key1\": 1, \"key2\": \"2\", \"key3\": [3, 3, 3], \"key4\": (4, 4, 4), ('key5'): 5, (0, 1): 6}\n",
        "Dict"
      ],
      "execution_count": null,
      "outputs": [
        {
          "output_type": "execute_result",
          "data": {
            "text/plain": [
              "{(0, 1): 6,\n",
              " 'key1': 1,\n",
              " 'key2': '2',\n",
              " 'key3': [3, 3, 3],\n",
              " 'key4': (4, 4, 4),\n",
              " 'key5': 5}"
            ]
          },
          "metadata": {
            "tags": []
          },
          "execution_count": 37
        }
      ]
    },
    {
      "cell_type": "markdown",
      "metadata": {
        "id": "xdIXM_2u3TNb"
      },
      "source": [
        "The keys can be strings:"
      ]
    },
    {
      "cell_type": "code",
      "metadata": {
        "colab": {
          "base_uri": "https://localhost:8080/"
        },
        "id": "bbfx4aEtftGW",
        "outputId": "93fe1c0d-e229-4bb3-8b9a-d82cd80a1d34"
      },
      "source": [
        "# Access to the value by the key\n",
        "\n",
        "Dict[\"key1\"]"
      ],
      "execution_count": null,
      "outputs": [
        {
          "output_type": "execute_result",
          "data": {
            "text/plain": [
              "1"
            ]
          },
          "metadata": {
            "tags": []
          },
          "execution_count": 38
        }
      ]
    },
    {
      "cell_type": "markdown",
      "metadata": {
        "id": "zUti-YYm3TNk"
      },
      "source": [
        "Keys can also be any immutable object such as a tuple: "
      ]
    },
    {
      "cell_type": "code",
      "metadata": {
        "colab": {
          "base_uri": "https://localhost:8080/"
        },
        "id": "4aY9VBT1fwje",
        "outputId": "be07cb34-175f-4d4c-b8de-d0be675cc342"
      },
      "source": [
        "# Access to the value by the key\n",
        "\n",
        "Dict[(0, 1)]"
      ],
      "execution_count": null,
      "outputs": [
        {
          "output_type": "execute_result",
          "data": {
            "text/plain": [
              "6"
            ]
          },
          "metadata": {
            "tags": []
          },
          "execution_count": 39
        }
      ]
    },
    {
      "cell_type": "code",
      "metadata": {
        "id": "-VXK3vkXf-xN"
      },
      "source": [
        ""
      ],
      "execution_count": null,
      "outputs": []
    },
    {
      "cell_type": "markdown",
      "metadata": {
        "id": "wuuOhPIf3TNu"
      },
      "source": [
        " Each key is separated from its value by a colon \"<code>:</code>\".  Commas separate the items, and the whole dictionary is enclosed in curly braces. An empty dictionary without any items is written with just two curly braces, like this  \"<code>{}</code>\"."
      ]
    },
    {
      "cell_type": "code",
      "metadata": {
        "jupyter": {
          "outputs_hidden": false
        },
        "id": "N8VMd6o13TNv",
        "colab": {
          "base_uri": "https://localhost:8080/"
        },
        "outputId": "e8145535-5765-4c1e-8138-9243eb40ca18"
      },
      "source": [
        "# Create a sample dictionary\n",
        "\n",
        "release_year_dict = {\"Thriller\": \"1982\", \"Back in Black\": \"1980\", \\\n",
        "                    \"The Dark Side of the Moon\": \"1973\", \"The Bodyguard\": \"1992\", \\\n",
        "                    \"Bat Out of Hell\": \"1977\", \"Their Greatest Hits (1971-1975)\": \"1976\", \\\n",
        "                    \"Saturday Night Fever\": \"1977\", \"Rumours\": \"1977\"}\n",
        "release_year_dict"
      ],
      "execution_count": null,
      "outputs": [
        {
          "output_type": "execute_result",
          "data": {
            "text/plain": [
              "{'Back in Black': '1980',\n",
              " 'Bat Out of Hell': '1977',\n",
              " 'Rumours': '1977',\n",
              " 'Saturday Night Fever': '1977',\n",
              " 'The Bodyguard': '1992',\n",
              " 'The Dark Side of the Moon': '1973',\n",
              " 'Their Greatest Hits (1971-1975)': '1976',\n",
              " 'Thriller': '1982'}"
            ]
          },
          "metadata": {
            "tags": []
          },
          "execution_count": 40
        }
      ]
    },
    {
      "cell_type": "markdown",
      "metadata": {
        "id": "IO6kWnjU3TN6"
      },
      "source": [
        "In summary, like a list, a dictionary holds a sequence of elements. Each element is represented by a key and its corresponding value. Dictionaries are created with two curly braces containing keys and values separated by a colon. For every key, there can only be one single value, however,  multiple keys can hold the same value. Keys can only be strings, numbers, or tuples, but values can be any data type."
      ]
    },
    {
      "cell_type": "markdown",
      "metadata": {
        "id": "lmFTxv-G3TN8"
      },
      "source": [
        "It is helpful to visualize the dictionary as a table, as in the following image. The first column represents the keys, the second column represents the values."
      ]
    },
    {
      "cell_type": "markdown",
      "metadata": {
        "id": "-9k-3bOn3TN-"
      },
      "source": [
        "<img src=\"https://s3-api.us-geo.objectstorage.softlayer.net/cf-courses-data/CognitiveClass/PY0101EN/Chapter%202/Images/DictsStructure.png\" width=\"650\" />"
      ]
    },
    {
      "cell_type": "markdown",
      "metadata": {
        "id": "pFceIWLE3TOA"
      },
      "source": [
        "<h3 id=\"key\">Keys</h3>"
      ]
    },
    {
      "cell_type": "markdown",
      "metadata": {
        "id": "uWvG1-MG3TOC"
      },
      "source": [
        "You can retrieve the values based on the names:"
      ]
    },
    {
      "cell_type": "code",
      "metadata": {
        "jupyter": {
          "outputs_hidden": false
        },
        "id": "90Pzz3Tj3TOE"
      },
      "source": [
        "# Get value by keys\n",
        "\n",
        "release_year_dict['Thriller'] "
      ],
      "execution_count": null,
      "outputs": []
    },
    {
      "cell_type": "markdown",
      "metadata": {
        "id": "cA3-lezy3TOS"
      },
      "source": [
        "<img src=\"https://s3-api.us-geo.objectstorage.softlayer.net/cf-courses-data/CognitiveClass/PY0101EN/Chapter%202/Images/DictsKeyOne.png\" width=\"500\" />"
      ]
    },
    {
      "cell_type": "markdown",
      "metadata": {
        "id": "wJmBYaO73TOU"
      },
      "source": [
        "Similarly for <b>The Bodyguard</b>"
      ]
    },
    {
      "cell_type": "code",
      "metadata": {
        "jupyter": {
          "outputs_hidden": false
        },
        "id": "W_NSzjPG3TOW",
        "colab": {
          "base_uri": "https://localhost:8080/",
          "height": 35
        },
        "outputId": "5b13871c-3b5d-4e89-c603-079f12f4e8c6"
      },
      "source": [
        "# Get value by key\n",
        "\n",
        "release_year_dict['The Bodyguard'] "
      ],
      "execution_count": null,
      "outputs": [
        {
          "output_type": "execute_result",
          "data": {
            "application/vnd.google.colaboratory.intrinsic+json": {
              "type": "string"
            },
            "text/plain": [
              "'1992'"
            ]
          },
          "metadata": {
            "tags": []
          },
          "execution_count": 41
        }
      ]
    },
    {
      "cell_type": "markdown",
      "metadata": {
        "id": "T1yFGgC_3TOd"
      },
      "source": [
        "<img src=\"https://s3-api.us-geo.objectstorage.softlayer.net/cf-courses-data/CognitiveClass/PY0101EN/Chapter%202/Images/DictsKeyTwo.png\" width=\"500\" />"
      ]
    },
    {
      "cell_type": "markdown",
      "metadata": {
        "id": "jsP3jvU83TOe"
      },
      "source": [
        "Now let you retrieve the keys of the dictionary using the method <code>release_year_dict()</code>:"
      ]
    },
    {
      "cell_type": "code",
      "metadata": {
        "jupyter": {
          "outputs_hidden": false
        },
        "id": "joIWKSrE3TOf",
        "colab": {
          "base_uri": "https://localhost:8080/"
        },
        "outputId": "aec41f43-e6e9-4b43-a8f8-5e6329174753"
      },
      "source": [
        "# Get all the keys in dictionary\n",
        "\n",
        "release_year_dict.keys() "
      ],
      "execution_count": null,
      "outputs": [
        {
          "output_type": "execute_result",
          "data": {
            "text/plain": [
              "dict_keys(['Thriller', 'Back in Black', 'The Dark Side of the Moon', 'The Bodyguard', 'Bat Out of Hell', 'Their Greatest Hits (1971-1975)', 'Saturday Night Fever', 'Rumours'])"
            ]
          },
          "metadata": {
            "tags": []
          },
          "execution_count": 42
        }
      ]
    },
    {
      "cell_type": "markdown",
      "metadata": {
        "id": "6zYm_NdO3TOp"
      },
      "source": [
        "You can retrieve the values using the method  <code>values()</code>:"
      ]
    },
    {
      "cell_type": "code",
      "metadata": {
        "jupyter": {
          "outputs_hidden": false
        },
        "id": "mDYA-eoi3TOr",
        "colab": {
          "base_uri": "https://localhost:8080/"
        },
        "outputId": "b0ef64f2-600d-4c53-a3c5-f0261958b7c5"
      },
      "source": [
        "# Get all the values in dictionary\n",
        "\n",
        "release_year_dict.values() "
      ],
      "execution_count": null,
      "outputs": [
        {
          "output_type": "execute_result",
          "data": {
            "text/plain": [
              "dict_values(['1982', '1980', '1973', '1992', '1977', '1976', '1977', '1977'])"
            ]
          },
          "metadata": {
            "tags": []
          },
          "execution_count": 43
        }
      ]
    },
    {
      "cell_type": "markdown",
      "metadata": {
        "id": "gIrS8hwy3TOw"
      },
      "source": [
        "We can add an entry:"
      ]
    },
    {
      "cell_type": "code",
      "metadata": {
        "jupyter": {
          "outputs_hidden": false
        },
        "id": "iOb4wq-O3TOx",
        "colab": {
          "base_uri": "https://localhost:8080/"
        },
        "outputId": "95ad0213-f425-4810-971a-ceffcec93be9"
      },
      "source": [
        "# Append value with key into dictionary\n",
        "\n",
        "release_year_dict['Graduation'] = '2007'\n",
        "release_year_dict"
      ],
      "execution_count": null,
      "outputs": [
        {
          "output_type": "execute_result",
          "data": {
            "text/plain": [
              "{'Back in Black': '1980',\n",
              " 'Bat Out of Hell': '1977',\n",
              " 'Graduation': '2007',\n",
              " 'Rumours': '1977',\n",
              " 'Saturday Night Fever': '1977',\n",
              " 'The Bodyguard': '1992',\n",
              " 'The Dark Side of the Moon': '1973',\n",
              " 'Their Greatest Hits (1971-1975)': '1976',\n",
              " 'Thriller': '1982'}"
            ]
          },
          "metadata": {
            "tags": []
          },
          "execution_count": 44
        }
      ]
    },
    {
      "cell_type": "markdown",
      "metadata": {
        "id": "RJP82zrW3TO-"
      },
      "source": [
        "We can delete an entry:   "
      ]
    },
    {
      "cell_type": "code",
      "metadata": {
        "jupyter": {
          "outputs_hidden": false
        },
        "id": "Ylgv-IbH3TO_",
        "colab": {
          "base_uri": "https://localhost:8080/"
        },
        "outputId": "1975bd4a-1014-4191-a258-77c5d873a174"
      },
      "source": [
        "# Delete entries by key\n",
        "\n",
        "del(release_year_dict['Thriller'])\n",
        "del(release_year_dict['Graduation'])\n",
        "release_year_dict"
      ],
      "execution_count": null,
      "outputs": [
        {
          "output_type": "execute_result",
          "data": {
            "text/plain": [
              "{'Back in Black': '1980',\n",
              " 'Bat Out of Hell': '1977',\n",
              " 'Rumours': '1977',\n",
              " 'Saturday Night Fever': '1977',\n",
              " 'The Bodyguard': '1992',\n",
              " 'The Dark Side of the Moon': '1973',\n",
              " 'Their Greatest Hits (1971-1975)': '1976'}"
            ]
          },
          "metadata": {
            "tags": []
          },
          "execution_count": 45
        }
      ]
    },
    {
      "cell_type": "markdown",
      "metadata": {
        "id": "XVOfrtD93TPF"
      },
      "source": [
        " We can verify if an element is in the dictionary: "
      ]
    },
    {
      "cell_type": "code",
      "metadata": {
        "jupyter": {
          "outputs_hidden": false
        },
        "id": "Pgs-xw2e3TPF",
        "colab": {
          "base_uri": "https://localhost:8080/"
        },
        "outputId": "2b0a5de6-41f5-4a17-d43a-43c47788a80f"
      },
      "source": [
        "# Verify the key is in the dictionary\n",
        "\n",
        "'The Bodyguard' in release_year_dict"
      ],
      "execution_count": null,
      "outputs": [
        {
          "output_type": "execute_result",
          "data": {
            "text/plain": [
              "True"
            ]
          },
          "metadata": {
            "tags": []
          },
          "execution_count": 46
        }
      ]
    },
    {
      "cell_type": "code",
      "metadata": {
        "id": "voooJf9PgEF3"
      },
      "source": [
        ""
      ],
      "execution_count": null,
      "outputs": []
    },
    {
      "cell_type": "code",
      "metadata": {
        "id": "LPnFp0EKiCHA"
      },
      "source": [
        ""
      ],
      "execution_count": null,
      "outputs": []
    },
    {
      "cell_type": "markdown",
      "metadata": {
        "id": "3vXrg8CGyDpN"
      },
      "source": [
        "# **Loops:**\n",
        "In general, statements are executed sequentially. The first statement in a function is executed first, followed by the second, and so on.\n",
        "\n",
        "There may be a situation when you need to execute a block of code several number of times\n",
        "A loop statement allows us to execute a statement or group of statements multiple times. \n",
        "\n",
        "In Python, there are three loops:\n",
        "\n",
        "1.  While\n",
        "2.  For\n",
        "3.  Nested"
      ]
    },
    {
      "cell_type": "markdown",
      "metadata": {
        "id": "3yS_xeHniWbS"
      },
      "source": [
        "before we go into loops understand range() function"
      ]
    },
    {
      "cell_type": "code",
      "metadata": {
        "id": "Dt1SdvQaiPNN"
      },
      "source": [
        ""
      ],
      "execution_count": null,
      "outputs": []
    },
    {
      "cell_type": "markdown",
      "metadata": {
        "id": "aaq0JzAh_wtt"
      },
      "source": [
        "<h3 id=\"range\">Range</h3>"
      ]
    },
    {
      "cell_type": "markdown",
      "metadata": {
        "id": "JmSlISPY_wtu"
      },
      "source": [
        "Sometimes, you might want to repeat a given operation many times. Repeated executions like this are performed by <b>loops</b>. We will look at two types of loops, <code>for</code> loops and <code>while</code> loops.\n",
        "\n",
        "Before we discuss loops lets discuss the <code>range</code> object. It is helpful to think of the range object as an ordered list. For now, let's look at the simplest case. If we would like to generate a sequence that contains three elements ordered from 0 to 2 we simply use the following command:"
      ]
    },
    {
      "cell_type": "code",
      "metadata": {
        "id": "HxhvbGoe_wtw",
        "colab": {
          "base_uri": "https://localhost:8080/"
        },
        "outputId": "9d110bac-4a99-475e-c684-0ebf468f6b65"
      },
      "source": [
        "# Use the range\n",
        "\n",
        "range(3)"
      ],
      "execution_count": null,
      "outputs": [
        {
          "output_type": "execute_result",
          "data": {
            "text/plain": [
              "range(0, 3)"
            ]
          },
          "metadata": {
            "tags": []
          },
          "execution_count": 47
        }
      ]
    },
    {
      "cell_type": "markdown",
      "metadata": {
        "id": "2G2TFmj9_wt6"
      },
      "source": [
        "<img src=\"https://s3-api.us-geo.objectstorage.softlayer.net/cf-courses-data/CognitiveClass/PY0101EN/Chapter%203/Images/LoopsRange.png\" width=\"300\" />"
      ]
    },
    {
      "cell_type": "markdown",
      "metadata": {
        "id": "b003Htyd_wt7"
      },
      "source": [
        "<h3 id=\"for\">What is <code>for</code> loop?</h3>"
      ]
    },
    {
      "cell_type": "markdown",
      "metadata": {
        "id": "q7273OV5_wt9"
      },
      "source": [
        "The <code>for</code> loop enables you to execute a code block multiple times. For example, you would use this if you would like to print out every element in a list.    \n",
        "Let's try to use a <code>for</code> loop to print all the years presented in the list <code>dates</code>:"
      ]
    },
    {
      "cell_type": "code",
      "metadata": {
        "id": "NbmlQFFD_wt_",
        "colab": {
          "base_uri": "https://localhost:8080/"
        },
        "outputId": "76367c70-d217-47ce-a483-68596c4aca0b"
      },
      "source": [
        "# For loop example\n",
        "\n",
        "dates = [1982,1980,1973]\n",
        "N = len(dates)\n",
        "\n",
        "for i in range(N):\n",
        "    print(dates[i])     "
      ],
      "execution_count": null,
      "outputs": [
        {
          "output_type": "stream",
          "text": [
            "1982\n",
            "1980\n",
            "1973\n"
          ],
          "name": "stdout"
        }
      ]
    },
    {
      "cell_type": "markdown",
      "metadata": {
        "id": "ZxDH5jRQ_wuF"
      },
      "source": [
        "The code in the indent is executed <code>N</code> times, each time the value of <code>i</code> is increased by 1 for every execution. The statement executed is to <code>print</code> out the value in the list at index <code>i</code> as shown here:"
      ]
    },
    {
      "cell_type": "markdown",
      "metadata": {
        "id": "V88OzHjR_wuM"
      },
      "source": [
        "<img src=\"https://s3-api.us-geo.objectstorage.softlayer.net/cf-courses-data/CognitiveClass/PY0101EN/Chapter%203/Images/LoopsForRange.gif\" width=\"800\" />"
      ]
    },
    {
      "cell_type": "markdown",
      "metadata": {
        "id": "1SDyUNJ3_wuO"
      },
      "source": [
        "In this example we can print out a sequence of numbers from 0 to 7:"
      ]
    },
    {
      "cell_type": "code",
      "metadata": {
        "id": "klO15MA3_wuP",
        "colab": {
          "base_uri": "https://localhost:8080/"
        },
        "outputId": "9cc3919c-53ed-4e64-9983-4e0928e8cdcc"
      },
      "source": [
        "# Example of for loop\n",
        "\n",
        "for i in range(0, 8):\n",
        "    print(i)"
      ],
      "execution_count": null,
      "outputs": [
        {
          "output_type": "stream",
          "text": [
            "0\n",
            "1\n",
            "2\n",
            "3\n",
            "4\n",
            "5\n",
            "6\n",
            "7\n"
          ],
          "name": "stdout"
        }
      ]
    },
    {
      "cell_type": "markdown",
      "metadata": {
        "id": "mh8aH7Dv_wuY"
      },
      "source": [
        "In Python we can directly access the elements in the list as follows: "
      ]
    },
    {
      "cell_type": "code",
      "metadata": {
        "id": "cA54xqTL_wuZ",
        "colab": {
          "base_uri": "https://localhost:8080/"
        },
        "outputId": "22305ef6-b9c0-4330-aed2-b96274095eb4"
      },
      "source": [
        "# Exmaple of for loop, loop through list\n",
        "\n",
        "for year in dates:  \n",
        "    print(year)   "
      ],
      "execution_count": null,
      "outputs": [
        {
          "output_type": "stream",
          "text": [
            "1982\n",
            "1980\n",
            "1973\n"
          ],
          "name": "stdout"
        }
      ]
    },
    {
      "cell_type": "markdown",
      "metadata": {
        "id": "5IeoT6vK_wuf"
      },
      "source": [
        "For each iteration, the value of the variable <code>years</code> behaves like the value of <code>dates[i]</code> in the  first example:"
      ]
    },
    {
      "cell_type": "markdown",
      "metadata": {
        "id": "bFnYrgid_wug"
      },
      "source": [
        "<img src=\"https://s3-api.us-geo.objectstorage.softlayer.net/cf-courses-data/CognitiveClass/PY0101EN/Chapter%203/Images/LoopsForList.gif\" width=\"800\">"
      ]
    },
    {
      "cell_type": "markdown",
      "metadata": {
        "id": "k8hjABtv_wuh"
      },
      "source": [
        "We can change the elements in a list:"
      ]
    },
    {
      "cell_type": "code",
      "metadata": {
        "id": "5RKQt6Uh_wuj",
        "colab": {
          "base_uri": "https://localhost:8080/"
        },
        "outputId": "437dba64-a2a1-4754-90ec-61f723398146"
      },
      "source": [
        "# Use for loop to change the elements in list\n",
        "\n",
        "squares = ['red', 'yellow', 'green', 'purple', 'blue']\n",
        "\n",
        "for i in range(0, 5):\n",
        "    print(\"Before square \", i, 'is',  squares[i])\n",
        "    squares[i] = 'weight'\n",
        "    print(\"After square \", i, 'is',  squares[i])"
      ],
      "execution_count": null,
      "outputs": [
        {
          "output_type": "stream",
          "text": [
            "Before square  0 is red\n",
            "After square  0 is weight\n",
            "Before square  1 is yellow\n",
            "After square  1 is weight\n",
            "Before square  2 is green\n",
            "After square  2 is weight\n",
            "Before square  3 is purple\n",
            "After square  3 is weight\n",
            "Before square  4 is blue\n",
            "After square  4 is weight\n"
          ],
          "name": "stdout"
        }
      ]
    },
    {
      "cell_type": "markdown",
      "metadata": {
        "id": "HuDwxvDL_wuq"
      },
      "source": [
        " We can access the index and the elements of a list as follows: "
      ]
    },
    {
      "cell_type": "code",
      "metadata": {
        "id": "09FwyYlp_wus",
        "colab": {
          "base_uri": "https://localhost:8080/"
        },
        "outputId": "3f2802b1-0d73-45d3-d637-cb2fae07fb20"
      },
      "source": [
        "# Loop through the list and iterate on both index and element value\n",
        "\n",
        "squares=['red', 'yellow', 'green', 'purple', 'blue']\n",
        "\n",
        "for i, square in enumerate(squares):\n",
        "    print(i, square)"
      ],
      "execution_count": null,
      "outputs": [
        {
          "output_type": "stream",
          "text": [
            "0 red\n",
            "1 yellow\n",
            "2 green\n",
            "3 purple\n",
            "4 blue\n"
          ],
          "name": "stdout"
        }
      ]
    },
    {
      "cell_type": "markdown",
      "metadata": {
        "id": "7G23JdE3_wu0"
      },
      "source": [
        "<h3 id=\"while\">What is <code>while</code> loop?</h3>"
      ]
    },
    {
      "cell_type": "markdown",
      "metadata": {
        "id": "I4n4meN5_wu2"
      },
      "source": [
        "As you can see, the <code>for</code> loop is used for a controlled flow of repetition. However, what if we don't know when we want to stop the loop? What if we want to keep executing a code block until a certain condition is met? The <code>while</code> loop exists as a tool for repeated execution based on a condition. The code block will keep being executed until the given logical condition returns a **False** boolean value.\n"
      ]
    },
    {
      "cell_type": "code",
      "metadata": {
        "id": "taFvS3QU_wu5",
        "colab": {
          "base_uri": "https://localhost:8080/"
        },
        "outputId": "4d6f3bdc-9898-41b2-cc17-b3b5a4a6c3e3"
      },
      "source": [
        "# While Loop Example\n",
        "\n",
        "dates = [1982, 1980, 1973, 2000]\n",
        "\n",
        "i = 0\n",
        "year = 0\n",
        "\n",
        "while(year != 1973):\n",
        "    year = dates[i]\n",
        "    i = i + 1\n",
        "    print(year)\n",
        "\n",
        "print(\"It took \", i ,\"repetitions to get out of loop.\")"
      ],
      "execution_count": null,
      "outputs": [
        {
          "output_type": "stream",
          "text": [
            "1982\n",
            "1980\n",
            "1973\n",
            "It took  3 repetitions to get out of loop.\n"
          ],
          "name": "stdout"
        }
      ]
    },
    {
      "cell_type": "markdown",
      "metadata": {
        "id": "plesPhQk_wvH"
      },
      "source": [
        "<img src=\"https://s3-api.us-geo.objectstorage.softlayer.net/cf-courses-data/CognitiveClass/PY0101EN/Chapter%203/Images/LoopsWhile.gif\" width=\"650\" />"
      ]
    },
    {
      "cell_type": "markdown",
      "metadata": {
        "id": "u64LQwaoY3sn"
      },
      "source": [
        "# **Functions:**\n",
        "\n",
        "Functions are a convenient way to divide your code into useful blocks, allowing us to order our code, make it more readable, reuse it and save some time."
      ]
    },
    {
      "cell_type": "markdown",
      "metadata": {
        "id": "41Sl4Q_RZOqY"
      },
      "source": [
        "**Define a function with no arguments and no return values:**"
      ]
    },
    {
      "cell_type": "code",
      "metadata": {
        "id": "7lPlGuNiY_xP"
      },
      "source": [
        "def print_text():\n",
        "    print('this is text')"
      ],
      "execution_count": null,
      "outputs": []
    },
    {
      "cell_type": "code",
      "metadata": {
        "id": "_9uSsLHPZKi5",
        "colab": {
          "base_uri": "https://localhost:8080/"
        },
        "outputId": "8ca6270e-15b1-4a2b-9bbb-0687812a797e"
      },
      "source": [
        "# call the function\n",
        "print_text()"
      ],
      "execution_count": null,
      "outputs": [
        {
          "output_type": "stream",
          "text": [
            "this is text\n"
          ],
          "name": "stdout"
        }
      ]
    },
    {
      "cell_type": "markdown",
      "metadata": {
        "id": "2iYTL18xZS6Q"
      },
      "source": [
        "**Define a function with one argument and no return values:**"
      ]
    },
    {
      "cell_type": "code",
      "metadata": {
        "id": "Vo-cD2OxZUuB"
      },
      "source": [
        "def print_this(x):\n",
        "    print(x)"
      ],
      "execution_count": null,
      "outputs": []
    },
    {
      "cell_type": "code",
      "metadata": {
        "id": "7D16LaH5ZWHY",
        "colab": {
          "base_uri": "https://localhost:8080/"
        },
        "outputId": "f2450e21-9702-4fac-d0f9-515a05d2fb18"
      },
      "source": [
        "# call the function\n",
        "print_this(3)"
      ],
      "execution_count": null,
      "outputs": [
        {
          "output_type": "stream",
          "text": [
            "3\n"
          ],
          "name": "stdout"
        }
      ]
    },
    {
      "cell_type": "markdown",
      "metadata": {
        "id": "35bK9N-FZbsg"
      },
      "source": [
        "**Define a function with one argument and one return value:**"
      ]
    },
    {
      "cell_type": "code",
      "metadata": {
        "id": "z1jqUXCiZfk5",
        "colab": {
          "base_uri": "https://localhost:8080/"
        },
        "outputId": "f2e5d200-8768-4172-844e-6b441a884e71"
      },
      "source": [
        "def square(x):\n",
        "    return x**2\n",
        "    \n",
        "square(5)"
      ],
      "execution_count": null,
      "outputs": [
        {
          "output_type": "execute_result",
          "data": {
            "text/plain": [
              "25"
            ]
          },
          "metadata": {
            "tags": []
          },
          "execution_count": 56
        }
      ]
    },
    {
      "cell_type": "code",
      "metadata": {
        "id": "ne0NdmCn5ul9"
      },
      "source": [
        "#Example\n",
        "\n",
        "def calc(a, b, op='add'):\n",
        "\n",
        "    if op == 'add':\n",
        "        return a + b\n",
        "\n",
        "    elif op == 'sub':\n",
        "        return a - b\n",
        "        \n",
        "    else:\n",
        "        print('valid operations are add and sub')"
      ],
      "execution_count": null,
      "outputs": []
    },
    {
      "cell_type": "code",
      "metadata": {
        "id": "hH_4MlBcaOjZ",
        "colab": {
          "base_uri": "https://localhost:8080/"
        },
        "outputId": "f1187e78-88a2-4e09-c654-5cff89893044"
      },
      "source": [
        "# call the function\n",
        "calc(10, 4, op='add')"
      ],
      "execution_count": null,
      "outputs": [
        {
          "output_type": "execute_result",
          "data": {
            "text/plain": [
              "14"
            ]
          },
          "metadata": {
            "tags": []
          },
          "execution_count": 58
        }
      ]
    },
    {
      "cell_type": "code",
      "metadata": {
        "id": "6yJj0Zr4af0w",
        "colab": {
          "base_uri": "https://localhost:8080/"
        },
        "outputId": "cc12e37a-ab83-4ed3-f6e9-e92c0bf2219e"
      },
      "source": [
        "# unnamed arguments are inferred by position\n",
        "calc(10, 4, 'add')"
      ],
      "execution_count": null,
      "outputs": [
        {
          "output_type": "execute_result",
          "data": {
            "text/plain": [
              "14"
            ]
          },
          "metadata": {
            "tags": []
          },
          "execution_count": 59
        }
      ]
    },
    {
      "cell_type": "code",
      "metadata": {
        "id": "yy-kreh6agU4",
        "colab": {
          "base_uri": "https://localhost:8080/"
        },
        "outputId": "8c7c59a7-8ee7-4f0c-efc1-c81a10a3af5e"
      },
      "source": [
        "# default for 'op' is 'add'\n",
        "calc(10, 4)"
      ],
      "execution_count": null,
      "outputs": [
        {
          "output_type": "execute_result",
          "data": {
            "text/plain": [
              "14"
            ]
          },
          "metadata": {
            "tags": []
          },
          "execution_count": 60
        }
      ]
    },
    {
      "cell_type": "code",
      "metadata": {
        "id": "TnLSMIGeahaZ",
        "colab": {
          "base_uri": "https://localhost:8080/"
        },
        "outputId": "f05b5a05-1502-4d08-df0d-52130044e3fd"
      },
      "source": [
        "calc(10, 4, 'sub')"
      ],
      "execution_count": null,
      "outputs": [
        {
          "output_type": "execute_result",
          "data": {
            "text/plain": [
              "6"
            ]
          },
          "metadata": {
            "tags": []
          },
          "execution_count": 61
        }
      ]
    },
    {
      "cell_type": "code",
      "metadata": {
        "colab": {
          "base_uri": "https://localhost:8080/"
        },
        "id": "D0YCawyRiJZU",
        "outputId": "df6c5337-e255-4716-a841-1df157d42d00"
      },
      "source": [
        "marks = int (input(\"Enter marks : \"))\n",
        "\n",
        "if (marks < 25):\n",
        "  print(\"Oops! you have got F grade \")\n",
        "\n",
        "elif marks >= 25 and marks < 45:\n",
        "  print(\"it was little good you got E grade\")\n",
        "\n",
        "elif marks >= 45 and marks < 50:\n",
        "  print(\" you can do more not bad you have got D grade \")\n",
        "\n",
        "elif marks >= 50 and marks < 60:\n",
        "  print(\"A little more push you can do more by the way we have got C grade\")\n",
        "elif marks >= 60 and marks < 80:\n",
        "  print(\"Cool !! you can now chase the topper !! you got B grade\")\n",
        "else:\n",
        "  print(\"You are now the topper but not the dam winner by the way you got A grade\")"
      ],
      "execution_count": null,
      "outputs": [
        {
          "output_type": "stream",
          "text": [
            "Enter marks : 90\n",
            "you are now the topper but not the dam winner by the way you got A grade\n"
          ],
          "name": "stdout"
        }
      ]
    },
    {
      "cell_type": "markdown",
      "metadata": {
        "id": "ZtNytSxZRGbT"
      },
      "source": [
        "write a function "
      ]
    },
    {
      "cell_type": "code",
      "metadata": {
        "id": "redrz0e5iNJ2",
        "colab": {
          "base_uri": "https://localhost:8080/"
        },
        "outputId": "46d0f187-ff22-4d78-bafe-869a28218c13"
      },
      "source": [
        ""
      ],
      "execution_count": null,
      "outputs": [
        {
          "output_type": "stream",
          "text": [
            "Enter the number :- 9\n",
            "False\n"
          ],
          "name": "stdout"
        }
      ]
    },
    {
      "cell_type": "code",
      "metadata": {
        "colab": {
          "base_uri": "https://localhost:8080/"
        },
        "id": "V0DY-pHhRnh6",
        "outputId": "1520c63b-b26a-44d7-b320-b136f3044862"
      },
      "source": [
        ""
      ],
      "execution_count": null,
      "outputs": [
        {
          "output_type": "stream",
          "text": [
            "Enter the word :- racecar\n",
            "Yes\n"
          ],
          "name": "stdout"
        }
      ]
    },
    {
      "cell_type": "code",
      "metadata": {
        "id": "3l4Iv7cUUR0B"
      },
      "source": [
        ""
      ],
      "execution_count": null,
      "outputs": []
    }
  ]
}